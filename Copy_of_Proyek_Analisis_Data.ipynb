{
  "cells": [
    {
      "cell_type": "markdown",
      "metadata": {
        "id": "H9wADwK78DCz"
      },
      "source": [
        "# Proyek Analisis Data: E-Commerce Public Dataset\n",
        "- **Nama:** Farid Alvin Fadillah\n",
        "- **Email:** alvin6c1999@gmail.com\n",
        "- **ID Dicoding:** alvin6c1999"
      ]
    },
    {
      "cell_type": "markdown",
      "metadata": {
        "id": "eE0raob58DC0"
      },
      "source": [
        "## Menentukan Pertanyaan Bisnis"
      ]
    },
    {
      "cell_type": "markdown",
      "metadata": {
        "id": "GmQeQ5YF8DC0"
      },
      "source": [
        "- Bagaimana penyebaran dan perbandingan customer dan seller di setiap state?\n",
        "- Apakah ada hubungan antara waktu pengiriman dengan skor review?"
      ]
    },
    {
      "cell_type": "markdown",
      "metadata": {
        "id": "H-z4QGlO8DC1"
      },
      "source": [
        "## Import Semua Packages/Library yang Digunakan"
      ]
    },
    {
      "cell_type": "code",
      "execution_count": 1,
      "metadata": {
        "colab": {
          "base_uri": "https://localhost:8080/"
        },
        "id": "FVYwaObI8DC1",
        "outputId": "1b0a98c5-8b48-4bf5-a667-27b2362ca4f8"
      },
      "outputs": [],
      "source": [
        "import pandas as pd\n",
        "import numpy as np\n",
        "import matplotlib.pyplot as plt\n",
        "import os\n",
        "import seaborn as sns"
      ]
    },
    {
      "cell_type": "markdown",
      "metadata": {},
      "source": [
        "ganti direktori"
      ]
    },
    {
      "cell_type": "code",
      "execution_count": 2,
      "metadata": {},
      "outputs": [],
      "source": [
        "current_directory = os.getcwd()\n",
        "os.chdir(current_directory)"
      ]
    },
    {
      "cell_type": "markdown",
      "metadata": {
        "id": "h_Sh51Xy8DC1"
      },
      "source": [
        "## Data Wrangling"
      ]
    },
    {
      "cell_type": "markdown",
      "metadata": {
        "id": "sXU2GBYu8DC1"
      },
      "source": [
        "### Gathering Data"
      ]
    },
    {
      "cell_type": "markdown",
      "metadata": {},
      "source": [
        "mengambil data yang dibutuhkan"
      ]
    },
    {
      "cell_type": "markdown",
      "metadata": {},
      "source": [
        "mengambil data order review"
      ]
    },
    {
      "cell_type": "code",
      "execution_count": 3,
      "metadata": {
        "colab": {
          "base_uri": "https://localhost:8080/",
          "height": 261
        },
        "id": "zjCBk1BI8DC1",
        "outputId": "4baa7591-6c09-4238-b651-7c12348c5c14"
      },
      "outputs": [
        {
          "data": {
            "text/html": [
              "<div>\n",
              "<style scoped>\n",
              "    .dataframe tbody tr th:only-of-type {\n",
              "        vertical-align: middle;\n",
              "    }\n",
              "\n",
              "    .dataframe tbody tr th {\n",
              "        vertical-align: top;\n",
              "    }\n",
              "\n",
              "    .dataframe thead th {\n",
              "        text-align: right;\n",
              "    }\n",
              "</style>\n",
              "<table border=\"1\" class=\"dataframe\">\n",
              "  <thead>\n",
              "    <tr style=\"text-align: right;\">\n",
              "      <th></th>\n",
              "      <th>review_id</th>\n",
              "      <th>order_id</th>\n",
              "      <th>review_score</th>\n",
              "      <th>review_comment_title</th>\n",
              "      <th>review_comment_message</th>\n",
              "      <th>review_creation_date</th>\n",
              "      <th>review_answer_timestamp</th>\n",
              "    </tr>\n",
              "  </thead>\n",
              "  <tbody>\n",
              "    <tr>\n",
              "      <th>0</th>\n",
              "      <td>7bc2406110b926393aa56f80a40eba40</td>\n",
              "      <td>73fc7af87114b39712e6da79b0a377eb</td>\n",
              "      <td>4</td>\n",
              "      <td>NaN</td>\n",
              "      <td>NaN</td>\n",
              "      <td>2018-01-18 00:00:00</td>\n",
              "      <td>2018-01-18 21:46:59</td>\n",
              "    </tr>\n",
              "    <tr>\n",
              "      <th>1</th>\n",
              "      <td>80e641a11e56f04c1ad469d5645fdfde</td>\n",
              "      <td>a548910a1c6147796b98fdf73dbeba33</td>\n",
              "      <td>5</td>\n",
              "      <td>NaN</td>\n",
              "      <td>NaN</td>\n",
              "      <td>2018-03-10 00:00:00</td>\n",
              "      <td>2018-03-11 03:05:13</td>\n",
              "    </tr>\n",
              "    <tr>\n",
              "      <th>2</th>\n",
              "      <td>228ce5500dc1d8e020d8d1322874b6f0</td>\n",
              "      <td>f9e4b658b201a9f2ecdecbb34bed034b</td>\n",
              "      <td>5</td>\n",
              "      <td>NaN</td>\n",
              "      <td>NaN</td>\n",
              "      <td>2018-02-17 00:00:00</td>\n",
              "      <td>2018-02-18 14:36:24</td>\n",
              "    </tr>\n",
              "    <tr>\n",
              "      <th>3</th>\n",
              "      <td>e64fb393e7b32834bb789ff8bb30750e</td>\n",
              "      <td>658677c97b385a9be170737859d3511b</td>\n",
              "      <td>5</td>\n",
              "      <td>NaN</td>\n",
              "      <td>Recebi bem antes do prazo estipulado.</td>\n",
              "      <td>2017-04-21 00:00:00</td>\n",
              "      <td>2017-04-21 22:02:06</td>\n",
              "    </tr>\n",
              "    <tr>\n",
              "      <th>4</th>\n",
              "      <td>f7c4243c7fe1938f181bec41a392bdeb</td>\n",
              "      <td>8e6bfb81e283fa7e4f11123a3fb894f1</td>\n",
              "      <td>5</td>\n",
              "      <td>NaN</td>\n",
              "      <td>Parabéns lojas lannister adorei comprar pela I...</td>\n",
              "      <td>2018-03-01 00:00:00</td>\n",
              "      <td>2018-03-02 10:26:53</td>\n",
              "    </tr>\n",
              "  </tbody>\n",
              "</table>\n",
              "</div>"
            ],
            "text/plain": [
              "                          review_id                          order_id  \\\n",
              "0  7bc2406110b926393aa56f80a40eba40  73fc7af87114b39712e6da79b0a377eb   \n",
              "1  80e641a11e56f04c1ad469d5645fdfde  a548910a1c6147796b98fdf73dbeba33   \n",
              "2  228ce5500dc1d8e020d8d1322874b6f0  f9e4b658b201a9f2ecdecbb34bed034b   \n",
              "3  e64fb393e7b32834bb789ff8bb30750e  658677c97b385a9be170737859d3511b   \n",
              "4  f7c4243c7fe1938f181bec41a392bdeb  8e6bfb81e283fa7e4f11123a3fb894f1   \n",
              "\n",
              "   review_score review_comment_title  \\\n",
              "0             4                  NaN   \n",
              "1             5                  NaN   \n",
              "2             5                  NaN   \n",
              "3             5                  NaN   \n",
              "4             5                  NaN   \n",
              "\n",
              "                              review_comment_message review_creation_date  \\\n",
              "0                                                NaN  2018-01-18 00:00:00   \n",
              "1                                                NaN  2018-03-10 00:00:00   \n",
              "2                                                NaN  2018-02-17 00:00:00   \n",
              "3              Recebi bem antes do prazo estipulado.  2017-04-21 00:00:00   \n",
              "4  Parabéns lojas lannister adorei comprar pela I...  2018-03-01 00:00:00   \n",
              "\n",
              "  review_answer_timestamp  \n",
              "0     2018-01-18 21:46:59  \n",
              "1     2018-03-11 03:05:13  \n",
              "2     2018-02-18 14:36:24  \n",
              "3     2017-04-21 22:02:06  \n",
              "4     2018-03-02 10:26:53  "
            ]
          },
          "execution_count": 3,
          "metadata": {},
          "output_type": "execute_result"
        }
      ],
      "source": [
        "reviews_df = pd.read_csv(\"data/order_reviews_dataset.csv\", delimiter=\",\")\n",
        "reviews_df.head()"
      ]
    },
    {
      "cell_type": "markdown",
      "metadata": {},
      "source": [
        "mengambil data seller"
      ]
    },
    {
      "cell_type": "code",
      "execution_count": 4,
      "metadata": {
        "colab": {
          "base_uri": "https://localhost:8080/",
          "height": 206
        },
        "id": "CvB2Qb-LcvAw",
        "outputId": "c42ea610-3cfe-4bd5-d29d-e884c4838895"
      },
      "outputs": [
        {
          "data": {
            "text/html": [
              "<div>\n",
              "<style scoped>\n",
              "    .dataframe tbody tr th:only-of-type {\n",
              "        vertical-align: middle;\n",
              "    }\n",
              "\n",
              "    .dataframe tbody tr th {\n",
              "        vertical-align: top;\n",
              "    }\n",
              "\n",
              "    .dataframe thead th {\n",
              "        text-align: right;\n",
              "    }\n",
              "</style>\n",
              "<table border=\"1\" class=\"dataframe\">\n",
              "  <thead>\n",
              "    <tr style=\"text-align: right;\">\n",
              "      <th></th>\n",
              "      <th>seller_id</th>\n",
              "      <th>seller_zip_code_prefix</th>\n",
              "      <th>seller_city</th>\n",
              "      <th>seller_state</th>\n",
              "    </tr>\n",
              "  </thead>\n",
              "  <tbody>\n",
              "    <tr>\n",
              "      <th>0</th>\n",
              "      <td>3442f8959a84dea7ee197c632cb2df15</td>\n",
              "      <td>13023</td>\n",
              "      <td>campinas</td>\n",
              "      <td>SP</td>\n",
              "    </tr>\n",
              "    <tr>\n",
              "      <th>1</th>\n",
              "      <td>d1b65fc7debc3361ea86b5f14c68d2e2</td>\n",
              "      <td>13844</td>\n",
              "      <td>mogi guacu</td>\n",
              "      <td>SP</td>\n",
              "    </tr>\n",
              "    <tr>\n",
              "      <th>2</th>\n",
              "      <td>ce3ad9de960102d0677a81f5d0bb7b2d</td>\n",
              "      <td>20031</td>\n",
              "      <td>rio de janeiro</td>\n",
              "      <td>RJ</td>\n",
              "    </tr>\n",
              "    <tr>\n",
              "      <th>3</th>\n",
              "      <td>c0f3eea2e14555b6faeea3dd58c1b1c3</td>\n",
              "      <td>4195</td>\n",
              "      <td>sao paulo</td>\n",
              "      <td>SP</td>\n",
              "    </tr>\n",
              "    <tr>\n",
              "      <th>4</th>\n",
              "      <td>51a04a8a6bdcb23deccc82b0b80742cf</td>\n",
              "      <td>12914</td>\n",
              "      <td>braganca paulista</td>\n",
              "      <td>SP</td>\n",
              "    </tr>\n",
              "  </tbody>\n",
              "</table>\n",
              "</div>"
            ],
            "text/plain": [
              "                          seller_id  seller_zip_code_prefix  \\\n",
              "0  3442f8959a84dea7ee197c632cb2df15                   13023   \n",
              "1  d1b65fc7debc3361ea86b5f14c68d2e2                   13844   \n",
              "2  ce3ad9de960102d0677a81f5d0bb7b2d                   20031   \n",
              "3  c0f3eea2e14555b6faeea3dd58c1b1c3                    4195   \n",
              "4  51a04a8a6bdcb23deccc82b0b80742cf                   12914   \n",
              "\n",
              "         seller_city seller_state  \n",
              "0           campinas           SP  \n",
              "1         mogi guacu           SP  \n",
              "2     rio de janeiro           RJ  \n",
              "3          sao paulo           SP  \n",
              "4  braganca paulista           SP  "
            ]
          },
          "execution_count": 4,
          "metadata": {},
          "output_type": "execute_result"
        }
      ],
      "source": [
        "sellers_df = pd.read_csv(\"data/sellers_dataset.csv\", delimiter=\",\")\n",
        "sellers_df.head()"
      ]
    },
    {
      "cell_type": "markdown",
      "metadata": {},
      "source": [
        "mengambil data order"
      ]
    },
    {
      "cell_type": "code",
      "execution_count": 5,
      "metadata": {
        "colab": {
          "base_uri": "https://localhost:8080/",
          "height": 226
        },
        "id": "IGbQ4UT2cqMK",
        "outputId": "c787e830-9165-4dcd-8d5f-0db52c9abc56"
      },
      "outputs": [
        {
          "data": {
            "text/html": [
              "<div>\n",
              "<style scoped>\n",
              "    .dataframe tbody tr th:only-of-type {\n",
              "        vertical-align: middle;\n",
              "    }\n",
              "\n",
              "    .dataframe tbody tr th {\n",
              "        vertical-align: top;\n",
              "    }\n",
              "\n",
              "    .dataframe thead th {\n",
              "        text-align: right;\n",
              "    }\n",
              "</style>\n",
              "<table border=\"1\" class=\"dataframe\">\n",
              "  <thead>\n",
              "    <tr style=\"text-align: right;\">\n",
              "      <th></th>\n",
              "      <th>order_id</th>\n",
              "      <th>customer_id</th>\n",
              "      <th>order_status</th>\n",
              "      <th>order_purchase_timestamp</th>\n",
              "      <th>order_approved_at</th>\n",
              "      <th>order_delivered_carrier_date</th>\n",
              "      <th>order_delivered_customer_date</th>\n",
              "      <th>order_estimated_delivery_date</th>\n",
              "    </tr>\n",
              "  </thead>\n",
              "  <tbody>\n",
              "    <tr>\n",
              "      <th>0</th>\n",
              "      <td>e481f51cbdc54678b7cc49136f2d6af7</td>\n",
              "      <td>9ef432eb6251297304e76186b10a928d</td>\n",
              "      <td>delivered</td>\n",
              "      <td>2017-10-02 10:56:33</td>\n",
              "      <td>2017-10-02 11:07:15</td>\n",
              "      <td>2017-10-04 19:55:00</td>\n",
              "      <td>2017-10-10 21:25:13</td>\n",
              "      <td>2017-10-18 00:00:00</td>\n",
              "    </tr>\n",
              "    <tr>\n",
              "      <th>1</th>\n",
              "      <td>53cdb2fc8bc7dce0b6741e2150273451</td>\n",
              "      <td>b0830fb4747a6c6d20dea0b8c802d7ef</td>\n",
              "      <td>delivered</td>\n",
              "      <td>2018-07-24 20:41:37</td>\n",
              "      <td>2018-07-26 03:24:27</td>\n",
              "      <td>2018-07-26 14:31:00</td>\n",
              "      <td>2018-08-07 15:27:45</td>\n",
              "      <td>2018-08-13 00:00:00</td>\n",
              "    </tr>\n",
              "    <tr>\n",
              "      <th>2</th>\n",
              "      <td>47770eb9100c2d0c44946d9cf07ec65d</td>\n",
              "      <td>41ce2a54c0b03bf3443c3d931a367089</td>\n",
              "      <td>delivered</td>\n",
              "      <td>2018-08-08 08:38:49</td>\n",
              "      <td>2018-08-08 08:55:23</td>\n",
              "      <td>2018-08-08 13:50:00</td>\n",
              "      <td>2018-08-17 18:06:29</td>\n",
              "      <td>2018-09-04 00:00:00</td>\n",
              "    </tr>\n",
              "    <tr>\n",
              "      <th>3</th>\n",
              "      <td>949d5b44dbf5de918fe9c16f97b45f8a</td>\n",
              "      <td>f88197465ea7920adcdbec7375364d82</td>\n",
              "      <td>delivered</td>\n",
              "      <td>2017-11-18 19:28:06</td>\n",
              "      <td>2017-11-18 19:45:59</td>\n",
              "      <td>2017-11-22 13:39:59</td>\n",
              "      <td>2017-12-02 00:28:42</td>\n",
              "      <td>2017-12-15 00:00:00</td>\n",
              "    </tr>\n",
              "    <tr>\n",
              "      <th>4</th>\n",
              "      <td>ad21c59c0840e6cb83a9ceb5573f8159</td>\n",
              "      <td>8ab97904e6daea8866dbdbc4fb7aad2c</td>\n",
              "      <td>delivered</td>\n",
              "      <td>2018-02-13 21:18:39</td>\n",
              "      <td>2018-02-13 22:20:29</td>\n",
              "      <td>2018-02-14 19:46:34</td>\n",
              "      <td>2018-02-16 18:17:02</td>\n",
              "      <td>2018-02-26 00:00:00</td>\n",
              "    </tr>\n",
              "  </tbody>\n",
              "</table>\n",
              "</div>"
            ],
            "text/plain": [
              "                           order_id                       customer_id  \\\n",
              "0  e481f51cbdc54678b7cc49136f2d6af7  9ef432eb6251297304e76186b10a928d   \n",
              "1  53cdb2fc8bc7dce0b6741e2150273451  b0830fb4747a6c6d20dea0b8c802d7ef   \n",
              "2  47770eb9100c2d0c44946d9cf07ec65d  41ce2a54c0b03bf3443c3d931a367089   \n",
              "3  949d5b44dbf5de918fe9c16f97b45f8a  f88197465ea7920adcdbec7375364d82   \n",
              "4  ad21c59c0840e6cb83a9ceb5573f8159  8ab97904e6daea8866dbdbc4fb7aad2c   \n",
              "\n",
              "  order_status order_purchase_timestamp    order_approved_at  \\\n",
              "0    delivered      2017-10-02 10:56:33  2017-10-02 11:07:15   \n",
              "1    delivered      2018-07-24 20:41:37  2018-07-26 03:24:27   \n",
              "2    delivered      2018-08-08 08:38:49  2018-08-08 08:55:23   \n",
              "3    delivered      2017-11-18 19:28:06  2017-11-18 19:45:59   \n",
              "4    delivered      2018-02-13 21:18:39  2018-02-13 22:20:29   \n",
              "\n",
              "  order_delivered_carrier_date order_delivered_customer_date  \\\n",
              "0          2017-10-04 19:55:00           2017-10-10 21:25:13   \n",
              "1          2018-07-26 14:31:00           2018-08-07 15:27:45   \n",
              "2          2018-08-08 13:50:00           2018-08-17 18:06:29   \n",
              "3          2017-11-22 13:39:59           2017-12-02 00:28:42   \n",
              "4          2018-02-14 19:46:34           2018-02-16 18:17:02   \n",
              "\n",
              "  order_estimated_delivery_date  \n",
              "0           2017-10-18 00:00:00  \n",
              "1           2018-08-13 00:00:00  \n",
              "2           2018-09-04 00:00:00  \n",
              "3           2017-12-15 00:00:00  \n",
              "4           2018-02-26 00:00:00  "
            ]
          },
          "execution_count": 5,
          "metadata": {},
          "output_type": "execute_result"
        }
      ],
      "source": [
        "orders_df = pd.read_csv(\"data/orders_dataset.csv\", delimiter=\",\")\n",
        "orders_df.head()"
      ]
    },
    {
      "cell_type": "markdown",
      "metadata": {},
      "source": [
        "mengambil data customer"
      ]
    },
    {
      "cell_type": "code",
      "execution_count": 6,
      "metadata": {
        "colab": {
          "base_uri": "https://localhost:8080/",
          "height": 261
        },
        "id": "GWD8fNf1cD5h",
        "outputId": "1d898fa8-479c-45f4-c1ea-c79baf6be253"
      },
      "outputs": [
        {
          "data": {
            "text/html": [
              "<div>\n",
              "<style scoped>\n",
              "    .dataframe tbody tr th:only-of-type {\n",
              "        vertical-align: middle;\n",
              "    }\n",
              "\n",
              "    .dataframe tbody tr th {\n",
              "        vertical-align: top;\n",
              "    }\n",
              "\n",
              "    .dataframe thead th {\n",
              "        text-align: right;\n",
              "    }\n",
              "</style>\n",
              "<table border=\"1\" class=\"dataframe\">\n",
              "  <thead>\n",
              "    <tr style=\"text-align: right;\">\n",
              "      <th></th>\n",
              "      <th>customer_id</th>\n",
              "      <th>customer_unique_id</th>\n",
              "      <th>customer_zip_code_prefix</th>\n",
              "      <th>customer_city</th>\n",
              "      <th>customer_state</th>\n",
              "    </tr>\n",
              "  </thead>\n",
              "  <tbody>\n",
              "    <tr>\n",
              "      <th>0</th>\n",
              "      <td>06b8999e2fba1a1fbc88172c00ba8bc7</td>\n",
              "      <td>861eff4711a542e4b93843c6dd7febb0</td>\n",
              "      <td>14409</td>\n",
              "      <td>franca</td>\n",
              "      <td>SP</td>\n",
              "    </tr>\n",
              "    <tr>\n",
              "      <th>1</th>\n",
              "      <td>18955e83d337fd6b2def6b18a428ac77</td>\n",
              "      <td>290c77bc529b7ac935b93aa66c333dc3</td>\n",
              "      <td>9790</td>\n",
              "      <td>sao bernardo do campo</td>\n",
              "      <td>SP</td>\n",
              "    </tr>\n",
              "    <tr>\n",
              "      <th>2</th>\n",
              "      <td>4e7b3e00288586ebd08712fdd0374a03</td>\n",
              "      <td>060e732b5b29e8181a18229c7b0b2b5e</td>\n",
              "      <td>1151</td>\n",
              "      <td>sao paulo</td>\n",
              "      <td>SP</td>\n",
              "    </tr>\n",
              "    <tr>\n",
              "      <th>3</th>\n",
              "      <td>b2b6027bc5c5109e529d4dc6358b12c3</td>\n",
              "      <td>259dac757896d24d7702b9acbbff3f3c</td>\n",
              "      <td>8775</td>\n",
              "      <td>mogi das cruzes</td>\n",
              "      <td>SP</td>\n",
              "    </tr>\n",
              "    <tr>\n",
              "      <th>4</th>\n",
              "      <td>4f2d8ab171c80ec8364f7c12e35b23ad</td>\n",
              "      <td>345ecd01c38d18a9036ed96c73b8d066</td>\n",
              "      <td>13056</td>\n",
              "      <td>campinas</td>\n",
              "      <td>SP</td>\n",
              "    </tr>\n",
              "  </tbody>\n",
              "</table>\n",
              "</div>"
            ],
            "text/plain": [
              "                        customer_id                customer_unique_id  \\\n",
              "0  06b8999e2fba1a1fbc88172c00ba8bc7  861eff4711a542e4b93843c6dd7febb0   \n",
              "1  18955e83d337fd6b2def6b18a428ac77  290c77bc529b7ac935b93aa66c333dc3   \n",
              "2  4e7b3e00288586ebd08712fdd0374a03  060e732b5b29e8181a18229c7b0b2b5e   \n",
              "3  b2b6027bc5c5109e529d4dc6358b12c3  259dac757896d24d7702b9acbbff3f3c   \n",
              "4  4f2d8ab171c80ec8364f7c12e35b23ad  345ecd01c38d18a9036ed96c73b8d066   \n",
              "\n",
              "   customer_zip_code_prefix          customer_city customer_state  \n",
              "0                     14409                 franca             SP  \n",
              "1                      9790  sao bernardo do campo             SP  \n",
              "2                      1151              sao paulo             SP  \n",
              "3                      8775        mogi das cruzes             SP  \n",
              "4                     13056               campinas             SP  "
            ]
          },
          "execution_count": 6,
          "metadata": {},
          "output_type": "execute_result"
        }
      ],
      "source": [
        "customers_df = pd.read_csv(\"data/customers_dataset.csv\", delimiter=\",\")\n",
        "customers_df.head()"
      ]
    },
    {
      "cell_type": "markdown",
      "metadata": {
        "id": "FHSiqaZp8DC1"
      },
      "source": [
        "### Assessing Data"
      ]
    },
    {
      "cell_type": "markdown",
      "metadata": {},
      "source": [
        "melihat informasi dari semua dataframe"
      ]
    },
    {
      "cell_type": "code",
      "execution_count": 7,
      "metadata": {
        "colab": {
          "base_uri": "https://localhost:8080/"
        },
        "id": "Ks_KtOfIdE0d",
        "outputId": "c931942b-b175-4034-f9ae-0fd17db76896"
      },
      "outputs": [
        {
          "name": "stdout",
          "output_type": "stream",
          "text": [
            "<class 'pandas.core.frame.DataFrame'>\n",
            "RangeIndex: 99441 entries, 0 to 99440\n",
            "Data columns (total 5 columns):\n",
            " #   Column                    Non-Null Count  Dtype \n",
            "---  ------                    --------------  ----- \n",
            " 0   customer_id               99441 non-null  object\n",
            " 1   customer_unique_id        99441 non-null  object\n",
            " 2   customer_zip_code_prefix  99441 non-null  int64 \n",
            " 3   customer_city             99441 non-null  object\n",
            " 4   customer_state            99441 non-null  object\n",
            "dtypes: int64(1), object(4)\n",
            "memory usage: 3.8+ MB\n",
            "\n",
            " None\n",
            "===============================================\n",
            "<class 'pandas.core.frame.DataFrame'>\n",
            "RangeIndex: 99224 entries, 0 to 99223\n",
            "Data columns (total 7 columns):\n",
            " #   Column                   Non-Null Count  Dtype \n",
            "---  ------                   --------------  ----- \n",
            " 0   review_id                99224 non-null  object\n",
            " 1   order_id                 99224 non-null  object\n",
            " 2   review_score             99224 non-null  int64 \n",
            " 3   review_comment_title     11568 non-null  object\n",
            " 4   review_comment_message   40977 non-null  object\n",
            " 5   review_creation_date     99224 non-null  object\n",
            " 6   review_answer_timestamp  99224 non-null  object\n",
            "dtypes: int64(1), object(6)\n",
            "memory usage: 5.3+ MB\n",
            "\n",
            " None\n",
            "===============================================\n",
            "<class 'pandas.core.frame.DataFrame'>\n",
            "RangeIndex: 99441 entries, 0 to 99440\n",
            "Data columns (total 8 columns):\n",
            " #   Column                         Non-Null Count  Dtype \n",
            "---  ------                         --------------  ----- \n",
            " 0   order_id                       99441 non-null  object\n",
            " 1   customer_id                    99441 non-null  object\n",
            " 2   order_status                   99441 non-null  object\n",
            " 3   order_purchase_timestamp       99441 non-null  object\n",
            " 4   order_approved_at              99281 non-null  object\n",
            " 5   order_delivered_carrier_date   97658 non-null  object\n",
            " 6   order_delivered_customer_date  96476 non-null  object\n",
            " 7   order_estimated_delivery_date  99441 non-null  object\n",
            "dtypes: object(8)\n",
            "memory usage: 6.1+ MB\n",
            "\n",
            " None\n",
            "===============================================\n",
            "<class 'pandas.core.frame.DataFrame'>\n",
            "RangeIndex: 3095 entries, 0 to 3094\n",
            "Data columns (total 4 columns):\n",
            " #   Column                  Non-Null Count  Dtype \n",
            "---  ------                  --------------  ----- \n",
            " 0   seller_id               3095 non-null   object\n",
            " 1   seller_zip_code_prefix  3095 non-null   int64 \n",
            " 2   seller_city             3095 non-null   object\n",
            " 3   seller_state            3095 non-null   object\n",
            "dtypes: int64(1), object(3)\n",
            "memory usage: 96.8+ KB\n",
            "\n",
            " None\n"
          ]
        }
      ],
      "source": [
        "print('\\n', customers_df.info())\n",
        "print(\"===============================================\")\n",
        "print('\\n', reviews_df.info())\n",
        "print(\"===============================================\")\n",
        "print('\\n', orders_df.info())\n",
        "print(\"===============================================\")\n",
        "print('\\n', sellers_df.info())"
      ]
    },
    {
      "cell_type": "markdown",
      "metadata": {},
      "source": [
        "cek data yang null"
      ]
    },
    {
      "cell_type": "code",
      "execution_count": 8,
      "metadata": {
        "colab": {
          "base_uri": "https://localhost:8080/"
        },
        "id": "SyK6H8Uxdp7b",
        "outputId": "6ace2e69-b205-4685-f903-2de2e4b5f95b"
      },
      "outputs": [
        {
          "name": "stdout",
          "output_type": "stream",
          "text": [
            "\n",
            "Info data null customers:\n",
            " customer_id                 0\n",
            "customer_unique_id          0\n",
            "customer_zip_code_prefix    0\n",
            "customer_city               0\n",
            "customer_state              0\n",
            "dtype: int64\n",
            "\n",
            "Info data null order reviews:\n",
            " review_id                      0\n",
            "order_id                       0\n",
            "review_score                   0\n",
            "review_comment_title       87656\n",
            "review_comment_message     58247\n",
            "review_creation_date           0\n",
            "review_answer_timestamp        0\n",
            "dtype: int64\n",
            "\n",
            "Info data null orders:\n",
            " order_id                            0\n",
            "customer_id                         0\n",
            "order_status                        0\n",
            "order_purchase_timestamp            0\n",
            "order_approved_at                 160\n",
            "order_delivered_carrier_date     1783\n",
            "order_delivered_customer_date    2965\n",
            "order_estimated_delivery_date       0\n",
            "dtype: int64\n",
            "\n",
            "Info data null sellers:\n",
            " seller_id                 0\n",
            "seller_zip_code_prefix    0\n",
            "seller_city               0\n",
            "seller_state              0\n",
            "dtype: int64\n"
          ]
        }
      ],
      "source": [
        "print('\\nInfo data null customers:\\n', customers_df.isnull().sum())\n",
        "print('\\nInfo data null order reviews:\\n', reviews_df.isnull().sum())\n",
        "print('\\nInfo data null orders:\\n', orders_df.isnull().sum())\n",
        "print('\\nInfo data null sellers:\\n', sellers_df.isnull().sum())"
      ]
    },
    {
      "cell_type": "markdown",
      "metadata": {},
      "source": [
        "cek data duplikat"
      ]
    },
    {
      "cell_type": "code",
      "execution_count": 9,
      "metadata": {
        "colab": {
          "base_uri": "https://localhost:8080/"
        },
        "id": "pft2XE3MePlf",
        "outputId": "eb73e8fc-dc4c-4a66-a567-bc23e6a99767"
      },
      "outputs": [
        {
          "name": "stdout",
          "output_type": "stream",
          "text": [
            "\n",
            "Info data duplikat customers:\n",
            " 0\n",
            "\n",
            "Info data duplikat order reviews:\n",
            " 0\n",
            "\n",
            "Info data duplikat orders:\n",
            " 0\n",
            "\n",
            "Info data duplikat sellers:\n",
            " 0\n"
          ]
        }
      ],
      "source": [
        "print('\\nInfo data duplikat customers:\\n', customers_df.duplicated().sum())\n",
        "print('\\nInfo data duplikat order reviews:\\n', reviews_df.duplicated().sum())\n",
        "print('\\nInfo data duplikat orders:\\n', orders_df.duplicated().sum())\n",
        "print('\\nInfo data duplikat sellers:\\n', sellers_df.duplicated().sum())"
      ]
    },
    {
      "cell_type": "markdown",
      "metadata": {},
      "source": [
        "cek deskripsi dari dataframe"
      ]
    },
    {
      "cell_type": "code",
      "execution_count": 10,
      "metadata": {
        "colab": {
          "base_uri": "https://localhost:8080/"
        },
        "id": "FO5m0nYheejl",
        "outputId": "1b51c0ec-2737-430c-f8d8-fd7d6db0aa84"
      },
      "outputs": [
        {
          "name": "stdout",
          "output_type": "stream",
          "text": [
            "\n",
            "Info data describe customers:\n",
            "                              customer_id                customer_unique_id  \\\n",
            "count                              99441                             99441   \n",
            "unique                             99441                             96096   \n",
            "top     06b8999e2fba1a1fbc88172c00ba8bc7  8d50f5eadf50201ccdcedfb9e2ac8455   \n",
            "freq                                   1                                17   \n",
            "mean                                 NaN                               NaN   \n",
            "std                                  NaN                               NaN   \n",
            "min                                  NaN                               NaN   \n",
            "25%                                  NaN                               NaN   \n",
            "50%                                  NaN                               NaN   \n",
            "75%                                  NaN                               NaN   \n",
            "max                                  NaN                               NaN   \n",
            "\n",
            "        customer_zip_code_prefix customer_city customer_state  \n",
            "count               99441.000000         99441          99441  \n",
            "unique                       NaN          4119             27  \n",
            "top                          NaN     sao paulo             SP  \n",
            "freq                         NaN         15540          41746  \n",
            "mean                35137.474583           NaN            NaN  \n",
            "std                 29797.938996           NaN            NaN  \n",
            "min                  1003.000000           NaN            NaN  \n",
            "25%                 11347.000000           NaN            NaN  \n",
            "50%                 24416.000000           NaN            NaN  \n",
            "75%                 58900.000000           NaN            NaN  \n",
            "max                 99990.000000           NaN            NaN  \n",
            "\n",
            "Info data describe order reviews:\n",
            "                                review_id                          order_id  \\\n",
            "count                              99224                             99224   \n",
            "unique                             98410                             98673   \n",
            "top     7b606b0d57b078384f0b58eac1d41d78  c88b1d1b157a9999ce368f218a407141   \n",
            "freq                                   3                                 3   \n",
            "mean                                 NaN                               NaN   \n",
            "std                                  NaN                               NaN   \n",
            "min                                  NaN                               NaN   \n",
            "25%                                  NaN                               NaN   \n",
            "50%                                  NaN                               NaN   \n",
            "75%                                  NaN                               NaN   \n",
            "max                                  NaN                               NaN   \n",
            "\n",
            "        review_score review_comment_title review_comment_message  \\\n",
            "count   99224.000000                11568                  40977   \n",
            "unique           NaN                 4527                  36159   \n",
            "top              NaN            Recomendo              Muito bom   \n",
            "freq             NaN                  423                    230   \n",
            "mean        4.086421                  NaN                    NaN   \n",
            "std         1.347579                  NaN                    NaN   \n",
            "min         1.000000                  NaN                    NaN   \n",
            "25%         4.000000                  NaN                    NaN   \n",
            "50%         5.000000                  NaN                    NaN   \n",
            "75%         5.000000                  NaN                    NaN   \n",
            "max         5.000000                  NaN                    NaN   \n",
            "\n",
            "       review_creation_date review_answer_timestamp  \n",
            "count                 99224                   99224  \n",
            "unique                  636                   98248  \n",
            "top     2017-12-19 00:00:00     2017-06-15 23:21:05  \n",
            "freq                    463                       4  \n",
            "mean                    NaN                     NaN  \n",
            "std                     NaN                     NaN  \n",
            "min                     NaN                     NaN  \n",
            "25%                     NaN                     NaN  \n",
            "50%                     NaN                     NaN  \n",
            "75%                     NaN                     NaN  \n",
            "max                     NaN                     NaN  \n",
            "\n",
            "Info data describe orders:\n",
            "                                 order_id                       customer_id  \\\n",
            "count                              99441                             99441   \n",
            "unique                             99441                             99441   \n",
            "top     e481f51cbdc54678b7cc49136f2d6af7  9ef432eb6251297304e76186b10a928d   \n",
            "freq                                   1                                 1   \n",
            "\n",
            "       order_status order_purchase_timestamp    order_approved_at  \\\n",
            "count         99441                    99441                99281   \n",
            "unique            8                    98875                90733   \n",
            "top       delivered      2018-04-11 10:48:14  2018-02-27 04:31:10   \n",
            "freq          96478                        3                    9   \n",
            "\n",
            "       order_delivered_carrier_date order_delivered_customer_date  \\\n",
            "count                         97658                         96476   \n",
            "unique                        81018                         95664   \n",
            "top             2018-05-09 15:48:00           2018-05-08 23:38:46   \n",
            "freq                             47                             3   \n",
            "\n",
            "       order_estimated_delivery_date  \n",
            "count                          99441  \n",
            "unique                           459  \n",
            "top              2017-12-20 00:00:00  \n",
            "freq                             522  \n",
            "\n",
            "Info data describe sellers:\n",
            "                                seller_id  seller_zip_code_prefix seller_city  \\\n",
            "count                               3095             3095.000000        3095   \n",
            "unique                              3095                     NaN         611   \n",
            "top     3442f8959a84dea7ee197c632cb2df15                     NaN   sao paulo   \n",
            "freq                                   1                     NaN         694   \n",
            "mean                                 NaN            32291.059451         NaN   \n",
            "std                                  NaN            32713.453830         NaN   \n",
            "min                                  NaN             1001.000000         NaN   \n",
            "25%                                  NaN             7093.500000         NaN   \n",
            "50%                                  NaN            14940.000000         NaN   \n",
            "75%                                  NaN            64552.500000         NaN   \n",
            "max                                  NaN            99730.000000         NaN   \n",
            "\n",
            "       seller_state  \n",
            "count          3095  \n",
            "unique           23  \n",
            "top              SP  \n",
            "freq           1849  \n",
            "mean            NaN  \n",
            "std             NaN  \n",
            "min             NaN  \n",
            "25%             NaN  \n",
            "50%             NaN  \n",
            "75%             NaN  \n",
            "max             NaN  \n"
          ]
        }
      ],
      "source": [
        "print('\\nInfo data describe customers:\\n', customers_df.describe(include='all'))\n",
        "print('\\nInfo data describe order reviews:\\n', reviews_df.describe(include='all'))\n",
        "print('\\nInfo data describe orders:\\n', orders_df.describe(include='all'))\n",
        "print('\\nInfo data describe sellers:\\n', sellers_df.describe(include='all'))"
      ]
    },
    {
      "cell_type": "markdown",
      "metadata": {
        "id": "EhN5R4hr8DC1"
      },
      "source": [
        "### Cleaning Data"
      ]
    },
    {
      "cell_type": "markdown",
      "metadata": {},
      "source": [
        "karena ada data orders_df dan order_reviews_df memiliki null, maka kita isi null tersebut dengan nilai tertentu\n",
        "cek dulu review_comment_title yang null"
      ]
    },
    {
      "cell_type": "code",
      "execution_count": 11,
      "metadata": {
        "colab": {
          "base_uri": "https://localhost:8080/",
          "height": 513
        },
        "id": "jVnYpprE9Evz",
        "outputId": "791e3abd-1bd7-4d7f-a315-666b74e3c56b"
      },
      "outputs": [
        {
          "data": {
            "text/html": [
              "<div>\n",
              "<style scoped>\n",
              "    .dataframe tbody tr th:only-of-type {\n",
              "        vertical-align: middle;\n",
              "    }\n",
              "\n",
              "    .dataframe tbody tr th {\n",
              "        vertical-align: top;\n",
              "    }\n",
              "\n",
              "    .dataframe thead th {\n",
              "        text-align: right;\n",
              "    }\n",
              "</style>\n",
              "<table border=\"1\" class=\"dataframe\">\n",
              "  <thead>\n",
              "    <tr style=\"text-align: right;\">\n",
              "      <th></th>\n",
              "      <th>review_id</th>\n",
              "      <th>order_id</th>\n",
              "      <th>review_score</th>\n",
              "      <th>review_comment_title</th>\n",
              "      <th>review_comment_message</th>\n",
              "      <th>review_creation_date</th>\n",
              "      <th>review_answer_timestamp</th>\n",
              "    </tr>\n",
              "  </thead>\n",
              "  <tbody>\n",
              "    <tr>\n",
              "      <th>0</th>\n",
              "      <td>7bc2406110b926393aa56f80a40eba40</td>\n",
              "      <td>73fc7af87114b39712e6da79b0a377eb</td>\n",
              "      <td>4</td>\n",
              "      <td>NaN</td>\n",
              "      <td>NaN</td>\n",
              "      <td>2018-01-18 00:00:00</td>\n",
              "      <td>2018-01-18 21:46:59</td>\n",
              "    </tr>\n",
              "    <tr>\n",
              "      <th>1</th>\n",
              "      <td>80e641a11e56f04c1ad469d5645fdfde</td>\n",
              "      <td>a548910a1c6147796b98fdf73dbeba33</td>\n",
              "      <td>5</td>\n",
              "      <td>NaN</td>\n",
              "      <td>NaN</td>\n",
              "      <td>2018-03-10 00:00:00</td>\n",
              "      <td>2018-03-11 03:05:13</td>\n",
              "    </tr>\n",
              "    <tr>\n",
              "      <th>2</th>\n",
              "      <td>228ce5500dc1d8e020d8d1322874b6f0</td>\n",
              "      <td>f9e4b658b201a9f2ecdecbb34bed034b</td>\n",
              "      <td>5</td>\n",
              "      <td>NaN</td>\n",
              "      <td>NaN</td>\n",
              "      <td>2018-02-17 00:00:00</td>\n",
              "      <td>2018-02-18 14:36:24</td>\n",
              "    </tr>\n",
              "    <tr>\n",
              "      <th>3</th>\n",
              "      <td>e64fb393e7b32834bb789ff8bb30750e</td>\n",
              "      <td>658677c97b385a9be170737859d3511b</td>\n",
              "      <td>5</td>\n",
              "      <td>NaN</td>\n",
              "      <td>Recebi bem antes do prazo estipulado.</td>\n",
              "      <td>2017-04-21 00:00:00</td>\n",
              "      <td>2017-04-21 22:02:06</td>\n",
              "    </tr>\n",
              "    <tr>\n",
              "      <th>4</th>\n",
              "      <td>f7c4243c7fe1938f181bec41a392bdeb</td>\n",
              "      <td>8e6bfb81e283fa7e4f11123a3fb894f1</td>\n",
              "      <td>5</td>\n",
              "      <td>NaN</td>\n",
              "      <td>Parabéns lojas lannister adorei comprar pela I...</td>\n",
              "      <td>2018-03-01 00:00:00</td>\n",
              "      <td>2018-03-02 10:26:53</td>\n",
              "    </tr>\n",
              "    <tr>\n",
              "      <th>...</th>\n",
              "      <td>...</td>\n",
              "      <td>...</td>\n",
              "      <td>...</td>\n",
              "      <td>...</td>\n",
              "      <td>...</td>\n",
              "      <td>...</td>\n",
              "      <td>...</td>\n",
              "    </tr>\n",
              "    <tr>\n",
              "      <th>99219</th>\n",
              "      <td>574ed12dd733e5fa530cfd4bbf39d7c9</td>\n",
              "      <td>2a8c23fee101d4d5662fa670396eb8da</td>\n",
              "      <td>5</td>\n",
              "      <td>NaN</td>\n",
              "      <td>NaN</td>\n",
              "      <td>2018-07-07 00:00:00</td>\n",
              "      <td>2018-07-14 17:18:30</td>\n",
              "    </tr>\n",
              "    <tr>\n",
              "      <th>99220</th>\n",
              "      <td>f3897127253a9592a73be9bdfdf4ed7a</td>\n",
              "      <td>22ec9f0669f784db00fa86d035cf8602</td>\n",
              "      <td>5</td>\n",
              "      <td>NaN</td>\n",
              "      <td>NaN</td>\n",
              "      <td>2017-12-09 00:00:00</td>\n",
              "      <td>2017-12-11 20:06:42</td>\n",
              "    </tr>\n",
              "    <tr>\n",
              "      <th>99221</th>\n",
              "      <td>b3de70c89b1510c4cd3d0649fd302472</td>\n",
              "      <td>55d4004744368f5571d1f590031933e4</td>\n",
              "      <td>5</td>\n",
              "      <td>NaN</td>\n",
              "      <td>Excelente mochila, entrega super rápida. Super...</td>\n",
              "      <td>2018-03-22 00:00:00</td>\n",
              "      <td>2018-03-23 09:10:43</td>\n",
              "    </tr>\n",
              "    <tr>\n",
              "      <th>99222</th>\n",
              "      <td>1adeb9d84d72fe4e337617733eb85149</td>\n",
              "      <td>7725825d039fc1f0ceb7635e3f7d9206</td>\n",
              "      <td>4</td>\n",
              "      <td>NaN</td>\n",
              "      <td>NaN</td>\n",
              "      <td>2018-07-01 00:00:00</td>\n",
              "      <td>2018-07-02 12:59:13</td>\n",
              "    </tr>\n",
              "    <tr>\n",
              "      <th>99223</th>\n",
              "      <td>efe49f1d6f951dd88b51e6ccd4cc548f</td>\n",
              "      <td>90531360ecb1eec2a1fbb265a0db0508</td>\n",
              "      <td>1</td>\n",
              "      <td>NaN</td>\n",
              "      <td>meu produto chegou e ja tenho que devolver, po...</td>\n",
              "      <td>2017-07-03 00:00:00</td>\n",
              "      <td>2017-07-03 21:01:49</td>\n",
              "    </tr>\n",
              "  </tbody>\n",
              "</table>\n",
              "<p>87656 rows × 7 columns</p>\n",
              "</div>"
            ],
            "text/plain": [
              "                              review_id                          order_id  \\\n",
              "0      7bc2406110b926393aa56f80a40eba40  73fc7af87114b39712e6da79b0a377eb   \n",
              "1      80e641a11e56f04c1ad469d5645fdfde  a548910a1c6147796b98fdf73dbeba33   \n",
              "2      228ce5500dc1d8e020d8d1322874b6f0  f9e4b658b201a9f2ecdecbb34bed034b   \n",
              "3      e64fb393e7b32834bb789ff8bb30750e  658677c97b385a9be170737859d3511b   \n",
              "4      f7c4243c7fe1938f181bec41a392bdeb  8e6bfb81e283fa7e4f11123a3fb894f1   \n",
              "...                                 ...                               ...   \n",
              "99219  574ed12dd733e5fa530cfd4bbf39d7c9  2a8c23fee101d4d5662fa670396eb8da   \n",
              "99220  f3897127253a9592a73be9bdfdf4ed7a  22ec9f0669f784db00fa86d035cf8602   \n",
              "99221  b3de70c89b1510c4cd3d0649fd302472  55d4004744368f5571d1f590031933e4   \n",
              "99222  1adeb9d84d72fe4e337617733eb85149  7725825d039fc1f0ceb7635e3f7d9206   \n",
              "99223  efe49f1d6f951dd88b51e6ccd4cc548f  90531360ecb1eec2a1fbb265a0db0508   \n",
              "\n",
              "       review_score review_comment_title  \\\n",
              "0                 4                  NaN   \n",
              "1                 5                  NaN   \n",
              "2                 5                  NaN   \n",
              "3                 5                  NaN   \n",
              "4                 5                  NaN   \n",
              "...             ...                  ...   \n",
              "99219             5                  NaN   \n",
              "99220             5                  NaN   \n",
              "99221             5                  NaN   \n",
              "99222             4                  NaN   \n",
              "99223             1                  NaN   \n",
              "\n",
              "                                  review_comment_message review_creation_date  \\\n",
              "0                                                    NaN  2018-01-18 00:00:00   \n",
              "1                                                    NaN  2018-03-10 00:00:00   \n",
              "2                                                    NaN  2018-02-17 00:00:00   \n",
              "3                  Recebi bem antes do prazo estipulado.  2017-04-21 00:00:00   \n",
              "4      Parabéns lojas lannister adorei comprar pela I...  2018-03-01 00:00:00   \n",
              "...                                                  ...                  ...   \n",
              "99219                                                NaN  2018-07-07 00:00:00   \n",
              "99220                                                NaN  2017-12-09 00:00:00   \n",
              "99221  Excelente mochila, entrega super rápida. Super...  2018-03-22 00:00:00   \n",
              "99222                                                NaN  2018-07-01 00:00:00   \n",
              "99223  meu produto chegou e ja tenho que devolver, po...  2017-07-03 00:00:00   \n",
              "\n",
              "      review_answer_timestamp  \n",
              "0         2018-01-18 21:46:59  \n",
              "1         2018-03-11 03:05:13  \n",
              "2         2018-02-18 14:36:24  \n",
              "3         2017-04-21 22:02:06  \n",
              "4         2018-03-02 10:26:53  \n",
              "...                       ...  \n",
              "99219     2018-07-14 17:18:30  \n",
              "99220     2017-12-11 20:06:42  \n",
              "99221     2018-03-23 09:10:43  \n",
              "99222     2018-07-02 12:59:13  \n",
              "99223     2017-07-03 21:01:49  \n",
              "\n",
              "[87656 rows x 7 columns]"
            ]
          },
          "execution_count": 11,
          "metadata": {},
          "output_type": "execute_result"
        }
      ],
      "source": [
        "reviews_df[reviews_df.review_comment_title.isna()]"
      ]
    },
    {
      "cell_type": "code",
      "execution_count": 12,
      "metadata": {
        "colab": {
          "base_uri": "https://localhost:8080/"
        },
        "id": "GWll0lbLi7Ke",
        "outputId": "f7e66f17-eadb-41cd-8c7a-bb6410a5fe1a"
      },
      "outputs": [
        {
          "data": {
            "text/plain": [
              "review_comment_title\n",
              "Recomendo                    423\n",
              "recomendo                    345\n",
              "Bom                          293\n",
              "super recomendo              270\n",
              "Excelente                    248\n",
              "                            ... \n",
              "Luminaria sobrepor led 18      1\n",
              "Não recebi.                    1\n",
              "produto com lacre violado      1\n",
              "Atraso Entrega                 1\n",
              "Foto enganosa                  1\n",
              "Name: count, Length: 4527, dtype: int64"
            ]
          },
          "execution_count": 12,
          "metadata": {},
          "output_type": "execute_result"
        }
      ],
      "source": [
        "reviews_df.review_comment_title.value_counts()"
      ]
    },
    {
      "cell_type": "markdown",
      "metadata": {},
      "source": [
        "cek juga review_comment_message yang null"
      ]
    },
    {
      "cell_type": "code",
      "execution_count": 13,
      "metadata": {
        "colab": {
          "base_uri": "https://localhost:8080/",
          "height": 443
        },
        "id": "o93YS5F7jIFn",
        "outputId": "8e30df58-0046-42d6-d431-c70aefcd5df3"
      },
      "outputs": [
        {
          "data": {
            "text/html": [
              "<div>\n",
              "<style scoped>\n",
              "    .dataframe tbody tr th:only-of-type {\n",
              "        vertical-align: middle;\n",
              "    }\n",
              "\n",
              "    .dataframe tbody tr th {\n",
              "        vertical-align: top;\n",
              "    }\n",
              "\n",
              "    .dataframe thead th {\n",
              "        text-align: right;\n",
              "    }\n",
              "</style>\n",
              "<table border=\"1\" class=\"dataframe\">\n",
              "  <thead>\n",
              "    <tr style=\"text-align: right;\">\n",
              "      <th></th>\n",
              "      <th>review_id</th>\n",
              "      <th>order_id</th>\n",
              "      <th>review_score</th>\n",
              "      <th>review_comment_title</th>\n",
              "      <th>review_comment_message</th>\n",
              "      <th>review_creation_date</th>\n",
              "      <th>review_answer_timestamp</th>\n",
              "    </tr>\n",
              "  </thead>\n",
              "  <tbody>\n",
              "    <tr>\n",
              "      <th>0</th>\n",
              "      <td>7bc2406110b926393aa56f80a40eba40</td>\n",
              "      <td>73fc7af87114b39712e6da79b0a377eb</td>\n",
              "      <td>4</td>\n",
              "      <td>NaN</td>\n",
              "      <td>NaN</td>\n",
              "      <td>2018-01-18 00:00:00</td>\n",
              "      <td>2018-01-18 21:46:59</td>\n",
              "    </tr>\n",
              "    <tr>\n",
              "      <th>1</th>\n",
              "      <td>80e641a11e56f04c1ad469d5645fdfde</td>\n",
              "      <td>a548910a1c6147796b98fdf73dbeba33</td>\n",
              "      <td>5</td>\n",
              "      <td>NaN</td>\n",
              "      <td>NaN</td>\n",
              "      <td>2018-03-10 00:00:00</td>\n",
              "      <td>2018-03-11 03:05:13</td>\n",
              "    </tr>\n",
              "    <tr>\n",
              "      <th>2</th>\n",
              "      <td>228ce5500dc1d8e020d8d1322874b6f0</td>\n",
              "      <td>f9e4b658b201a9f2ecdecbb34bed034b</td>\n",
              "      <td>5</td>\n",
              "      <td>NaN</td>\n",
              "      <td>NaN</td>\n",
              "      <td>2018-02-17 00:00:00</td>\n",
              "      <td>2018-02-18 14:36:24</td>\n",
              "    </tr>\n",
              "    <tr>\n",
              "      <th>5</th>\n",
              "      <td>15197aa66ff4d0650b5434f1b46cda19</td>\n",
              "      <td>b18dcdf73be66366873cd26c5724d1dc</td>\n",
              "      <td>1</td>\n",
              "      <td>NaN</td>\n",
              "      <td>NaN</td>\n",
              "      <td>2018-04-13 00:00:00</td>\n",
              "      <td>2018-04-16 00:39:37</td>\n",
              "    </tr>\n",
              "    <tr>\n",
              "      <th>6</th>\n",
              "      <td>07f9bee5d1b850860defd761afa7ff16</td>\n",
              "      <td>e48aa0d2dcec3a2e87348811bcfdf22b</td>\n",
              "      <td>5</td>\n",
              "      <td>NaN</td>\n",
              "      <td>NaN</td>\n",
              "      <td>2017-07-16 00:00:00</td>\n",
              "      <td>2017-07-18 19:30:34</td>\n",
              "    </tr>\n",
              "    <tr>\n",
              "      <th>...</th>\n",
              "      <td>...</td>\n",
              "      <td>...</td>\n",
              "      <td>...</td>\n",
              "      <td>...</td>\n",
              "      <td>...</td>\n",
              "      <td>...</td>\n",
              "      <td>...</td>\n",
              "    </tr>\n",
              "    <tr>\n",
              "      <th>99217</th>\n",
              "      <td>c6b270c61f67c9f7cb07d84ea8aeaf8b</td>\n",
              "      <td>48f7ee67313eda32bfcf5b9c1dd9522d</td>\n",
              "      <td>5</td>\n",
              "      <td>NaN</td>\n",
              "      <td>NaN</td>\n",
              "      <td>2017-12-13 00:00:00</td>\n",
              "      <td>2017-12-14 11:09:36</td>\n",
              "    </tr>\n",
              "    <tr>\n",
              "      <th>99218</th>\n",
              "      <td>af2dc0519de6e0720ef0c74292fb4114</td>\n",
              "      <td>d699c734a0b1c8111f2272a3f36d398c</td>\n",
              "      <td>5</td>\n",
              "      <td>NaN</td>\n",
              "      <td>NaN</td>\n",
              "      <td>2018-04-27 00:00:00</td>\n",
              "      <td>2018-04-30 01:18:57</td>\n",
              "    </tr>\n",
              "    <tr>\n",
              "      <th>99219</th>\n",
              "      <td>574ed12dd733e5fa530cfd4bbf39d7c9</td>\n",
              "      <td>2a8c23fee101d4d5662fa670396eb8da</td>\n",
              "      <td>5</td>\n",
              "      <td>NaN</td>\n",
              "      <td>NaN</td>\n",
              "      <td>2018-07-07 00:00:00</td>\n",
              "      <td>2018-07-14 17:18:30</td>\n",
              "    </tr>\n",
              "    <tr>\n",
              "      <th>99220</th>\n",
              "      <td>f3897127253a9592a73be9bdfdf4ed7a</td>\n",
              "      <td>22ec9f0669f784db00fa86d035cf8602</td>\n",
              "      <td>5</td>\n",
              "      <td>NaN</td>\n",
              "      <td>NaN</td>\n",
              "      <td>2017-12-09 00:00:00</td>\n",
              "      <td>2017-12-11 20:06:42</td>\n",
              "    </tr>\n",
              "    <tr>\n",
              "      <th>99222</th>\n",
              "      <td>1adeb9d84d72fe4e337617733eb85149</td>\n",
              "      <td>7725825d039fc1f0ceb7635e3f7d9206</td>\n",
              "      <td>4</td>\n",
              "      <td>NaN</td>\n",
              "      <td>NaN</td>\n",
              "      <td>2018-07-01 00:00:00</td>\n",
              "      <td>2018-07-02 12:59:13</td>\n",
              "    </tr>\n",
              "  </tbody>\n",
              "</table>\n",
              "<p>58247 rows × 7 columns</p>\n",
              "</div>"
            ],
            "text/plain": [
              "                              review_id                          order_id  \\\n",
              "0      7bc2406110b926393aa56f80a40eba40  73fc7af87114b39712e6da79b0a377eb   \n",
              "1      80e641a11e56f04c1ad469d5645fdfde  a548910a1c6147796b98fdf73dbeba33   \n",
              "2      228ce5500dc1d8e020d8d1322874b6f0  f9e4b658b201a9f2ecdecbb34bed034b   \n",
              "5      15197aa66ff4d0650b5434f1b46cda19  b18dcdf73be66366873cd26c5724d1dc   \n",
              "6      07f9bee5d1b850860defd761afa7ff16  e48aa0d2dcec3a2e87348811bcfdf22b   \n",
              "...                                 ...                               ...   \n",
              "99217  c6b270c61f67c9f7cb07d84ea8aeaf8b  48f7ee67313eda32bfcf5b9c1dd9522d   \n",
              "99218  af2dc0519de6e0720ef0c74292fb4114  d699c734a0b1c8111f2272a3f36d398c   \n",
              "99219  574ed12dd733e5fa530cfd4bbf39d7c9  2a8c23fee101d4d5662fa670396eb8da   \n",
              "99220  f3897127253a9592a73be9bdfdf4ed7a  22ec9f0669f784db00fa86d035cf8602   \n",
              "99222  1adeb9d84d72fe4e337617733eb85149  7725825d039fc1f0ceb7635e3f7d9206   \n",
              "\n",
              "       review_score review_comment_title review_comment_message  \\\n",
              "0                 4                  NaN                    NaN   \n",
              "1                 5                  NaN                    NaN   \n",
              "2                 5                  NaN                    NaN   \n",
              "5                 1                  NaN                    NaN   \n",
              "6                 5                  NaN                    NaN   \n",
              "...             ...                  ...                    ...   \n",
              "99217             5                  NaN                    NaN   \n",
              "99218             5                  NaN                    NaN   \n",
              "99219             5                  NaN                    NaN   \n",
              "99220             5                  NaN                    NaN   \n",
              "99222             4                  NaN                    NaN   \n",
              "\n",
              "      review_creation_date review_answer_timestamp  \n",
              "0      2018-01-18 00:00:00     2018-01-18 21:46:59  \n",
              "1      2018-03-10 00:00:00     2018-03-11 03:05:13  \n",
              "2      2018-02-17 00:00:00     2018-02-18 14:36:24  \n",
              "5      2018-04-13 00:00:00     2018-04-16 00:39:37  \n",
              "6      2017-07-16 00:00:00     2017-07-18 19:30:34  \n",
              "...                    ...                     ...  \n",
              "99217  2017-12-13 00:00:00     2017-12-14 11:09:36  \n",
              "99218  2018-04-27 00:00:00     2018-04-30 01:18:57  \n",
              "99219  2018-07-07 00:00:00     2018-07-14 17:18:30  \n",
              "99220  2017-12-09 00:00:00     2017-12-11 20:06:42  \n",
              "99222  2018-07-01 00:00:00     2018-07-02 12:59:13  \n",
              "\n",
              "[58247 rows x 7 columns]"
            ]
          },
          "execution_count": 13,
          "metadata": {},
          "output_type": "execute_result"
        }
      ],
      "source": [
        "reviews_df[reviews_df.review_comment_message.isna()]"
      ]
    },
    {
      "cell_type": "code",
      "execution_count": 14,
      "metadata": {
        "colab": {
          "base_uri": "https://localhost:8080/"
        },
        "id": "SJA4DF_pjN7v",
        "outputId": "ed151306-cb17-4965-d0dd-dbca45914539"
      },
      "outputs": [
        {
          "data": {
            "text/plain": [
              "review_comment_message\n",
              "Muito bom                                                                                                                                                                                              230\n",
              "Bom                                                                                                                                                                                                    189\n",
              "muito bom                                                                                                                                                                                              122\n",
              "bom                                                                                                                                                                                                    107\n",
              "Recomendo                                                                                                                                                                                              100\n",
              "                                                                                                                                                                                                      ... \n",
              "PRODUTO FOI ENTREGUE VIA CORREIOS\\r\\nANTES DO PRAZO PREVISTO.                                                                                                                                            1\n",
              "Devido incompatibilidade vou devolver, ótimo produto!                                                                                                                                                    1\n",
              "Infelizmente não! A qualidade do produto não agradou.Impressão da foto em exposição remete a um tamanho maior e a recebida sequer atende a uma criança. PRODUTO NÃO JUSTIFICA O VALOR INFELIZMENTE!      1\n",
              "entrega na data prevista,somente a qualidade do material não é o mesmo que eu pensava mas pelo preço ta valido                                                                                           1\n",
              "meu produto chegou e ja tenho que devolver, pois está com defeito , não segurar carga                                                                                                                    1\n",
              "Name: count, Length: 36159, dtype: int64"
            ]
          },
          "execution_count": 14,
          "metadata": {},
          "output_type": "execute_result"
        }
      ],
      "source": [
        "reviews_df.review_comment_message.value_counts()"
      ]
    },
    {
      "cell_type": "markdown",
      "metadata": {},
      "source": [
        "mengganti semua review yang null dengan no comment"
      ]
    },
    {
      "cell_type": "code",
      "execution_count": 15,
      "metadata": {
        "colab": {
          "base_uri": "https://localhost:8080/"
        },
        "id": "PcAxmKssjY7x",
        "outputId": "6cc5d173-9c43-427e-f071-c94a6f222af1"
      },
      "outputs": [
        {
          "name": "stdout",
          "output_type": "stream",
          "text": [
            "\n",
            "Info data null order reviews:\n",
            " review_id                  0\n",
            "order_id                   0\n",
            "review_score               0\n",
            "review_comment_title       0\n",
            "review_comment_message     0\n",
            "review_creation_date       0\n",
            "review_answer_timestamp    0\n",
            "dtype: int64\n"
          ]
        }
      ],
      "source": [
        "reviews_df.fillna(value=\"no comment\", inplace=True)\n",
        "print('\\nInfo data null order reviews:\\n', reviews_df.isnull().sum())\n"
      ]
    },
    {
      "cell_type": "markdown",
      "metadata": {},
      "source": [
        "karena pada orders_df terdapat nilai null pada order_approved_at, order_delivered_carrier_date dan order_delivered_customer_date, Maka nilai tersebut di drop. "
      ]
    },
    {
      "cell_type": "code",
      "execution_count": 16,
      "metadata": {
        "colab": {
          "base_uri": "https://localhost:8080/"
        },
        "id": "yCoAyDkIkRh7",
        "outputId": "3165ceb5-d7ee-4832-d4c2-1b7068f5b94d"
      },
      "outputs": [
        {
          "name": "stdout",
          "output_type": "stream",
          "text": [
            "\n",
            "Info data null orders:\n",
            " order_id                         0\n",
            "customer_id                      0\n",
            "order_status                     0\n",
            "order_purchase_timestamp         0\n",
            "order_approved_at                0\n",
            "order_delivered_carrier_date     0\n",
            "order_delivered_customer_date    0\n",
            "order_estimated_delivery_date    0\n",
            "dtype: int64\n"
          ]
        }
      ],
      "source": [
        "orders_df.dropna(subset=['order_delivered_carrier_date', 'order_delivered_customer_date','order_approved_at'], inplace=True)\n",
        "print('\\nInfo data null orders:\\n', orders_df.isnull().sum())"
      ]
    },
    {
      "cell_type": "markdown",
      "metadata": {},
      "source": [
        "karena sebelumnya masih berupa bentuk string, nilai \"review_creation_date\",\"review_answer_timestamp\" pada order_reviews_df diubah menjadi format datetime\n",
        "\n"
      ]
    },
    {
      "cell_type": "code",
      "execution_count": 17,
      "metadata": {
        "colab": {
          "base_uri": "https://localhost:8080/"
        },
        "id": "CjjleuMcks9a",
        "outputId": "beb0b218-f1c0-4b78-d587-7ebd3312eb14"
      },
      "outputs": [
        {
          "name": "stdout",
          "output_type": "stream",
          "text": [
            "<class 'pandas.core.frame.DataFrame'>\n",
            "RangeIndex: 99224 entries, 0 to 99223\n",
            "Data columns (total 7 columns):\n",
            " #   Column                   Non-Null Count  Dtype         \n",
            "---  ------                   --------------  -----         \n",
            " 0   review_id                99224 non-null  object        \n",
            " 1   order_id                 99224 non-null  object        \n",
            " 2   review_score             99224 non-null  int64         \n",
            " 3   review_comment_title     99224 non-null  object        \n",
            " 4   review_comment_message   99224 non-null  object        \n",
            " 5   review_creation_date     99224 non-null  datetime64[ns]\n",
            " 6   review_answer_timestamp  99224 non-null  datetime64[ns]\n",
            "dtypes: datetime64[ns](2), int64(1), object(4)\n",
            "memory usage: 5.3+ MB\n"
          ]
        }
      ],
      "source": [
        "datetime_rev = [\"review_creation_date\",\"review_answer_timestamp\"]\n",
        "\n",
        "for column in datetime_rev:\n",
        "  reviews_df[column] = pd.to_datetime(reviews_df[column])\n",
        "\n",
        "reviews_df.info()\n",
        "\n"
      ]
    },
    {
      "cell_type": "markdown",
      "metadata": {},
      "source": [
        "hal yang serupa dilakukan pada \"order_purchase_timestamp\",\"order_approved_at\",\"order_delivered_carrier_date\",\"order_delivered_customer_date\",\"order_estimated_delivery_date\" pada orders_df."
      ]
    },
    {
      "cell_type": "code",
      "execution_count": 18,
      "metadata": {},
      "outputs": [
        {
          "name": "stdout",
          "output_type": "stream",
          "text": [
            "<class 'pandas.core.frame.DataFrame'>\n",
            "Index: 96461 entries, 0 to 99440\n",
            "Data columns (total 8 columns):\n",
            " #   Column                         Non-Null Count  Dtype         \n",
            "---  ------                         --------------  -----         \n",
            " 0   order_id                       96461 non-null  object        \n",
            " 1   customer_id                    96461 non-null  object        \n",
            " 2   order_status                   96461 non-null  object        \n",
            " 3   order_purchase_timestamp       96461 non-null  datetime64[ns]\n",
            " 4   order_approved_at              96461 non-null  datetime64[ns]\n",
            " 5   order_delivered_carrier_date   96461 non-null  datetime64[ns]\n",
            " 6   order_delivered_customer_date  96461 non-null  datetime64[ns]\n",
            " 7   order_estimated_delivery_date  96461 non-null  datetime64[ns]\n",
            "dtypes: datetime64[ns](5), object(3)\n",
            "memory usage: 6.6+ MB\n"
          ]
        }
      ],
      "source": [
        "datetime_or = [\"order_purchase_timestamp\",\"order_approved_at\",\"order_delivered_carrier_date\",\"order_delivered_customer_date\",\"order_estimated_delivery_date\"]\n",
        "\n",
        "for column in datetime_or:\n",
        "  orders_df[column] = pd.to_datetime(orders_df[column])\n",
        "\n",
        "orders_df.info()\n"
      ]
    },
    {
      "cell_type": "markdown",
      "metadata": {
        "id": "gp-Y6wU38DC1"
      },
      "source": [
        "## Exploratory Data Analysis (EDA)"
      ]
    },
    {
      "cell_type": "markdown",
      "metadata": {
        "id": "MW7WF2kr8DC1"
      },
      "source": [
        "### Explore customers_df"
      ]
    },
    {
      "cell_type": "markdown",
      "metadata": {},
      "source": [
        "melihat sampel dari customers"
      ]
    },
    {
      "cell_type": "code",
      "execution_count": 19,
      "metadata": {
        "colab": {
          "base_uri": "https://localhost:8080/",
          "height": 163
        },
        "id": "e9CQCZjk8DC2",
        "outputId": "3b2eff1c-0e2c-445f-986b-996c6389c6ec"
      },
      "outputs": [
        {
          "data": {
            "text/html": [
              "<div>\n",
              "<style scoped>\n",
              "    .dataframe tbody tr th:only-of-type {\n",
              "        vertical-align: middle;\n",
              "    }\n",
              "\n",
              "    .dataframe tbody tr th {\n",
              "        vertical-align: top;\n",
              "    }\n",
              "\n",
              "    .dataframe thead th {\n",
              "        text-align: right;\n",
              "    }\n",
              "</style>\n",
              "<table border=\"1\" class=\"dataframe\">\n",
              "  <thead>\n",
              "    <tr style=\"text-align: right;\">\n",
              "      <th></th>\n",
              "      <th>customer_id</th>\n",
              "      <th>customer_unique_id</th>\n",
              "      <th>customer_zip_code_prefix</th>\n",
              "      <th>customer_city</th>\n",
              "      <th>customer_state</th>\n",
              "    </tr>\n",
              "  </thead>\n",
              "  <tbody>\n",
              "    <tr>\n",
              "      <th>37713</th>\n",
              "      <td>9418fa1d37504cf6f7dafc0420acf406</td>\n",
              "      <td>494e875bef93610d10c951763389f74e</td>\n",
              "      <td>27170</td>\n",
              "      <td>ipiabas</td>\n",
              "      <td>RJ</td>\n",
              "    </tr>\n",
              "    <tr>\n",
              "      <th>46858</th>\n",
              "      <td>c2ae2ef380ab9c79079da7e6157cdbba</td>\n",
              "      <td>45f6782e5cab8c938a06f6ae56f9d6c0</td>\n",
              "      <td>39403</td>\n",
              "      <td>montes claros</td>\n",
              "      <td>MG</td>\n",
              "    </tr>\n",
              "    <tr>\n",
              "      <th>53243</th>\n",
              "      <td>73afc72acd21df38d6370f85e399dc31</td>\n",
              "      <td>076cec8e5fb147404b927d1d291ca1fd</td>\n",
              "      <td>99795</td>\n",
              "      <td>barra do rio azul</td>\n",
              "      <td>RS</td>\n",
              "    </tr>\n",
              "  </tbody>\n",
              "</table>\n",
              "</div>"
            ],
            "text/plain": [
              "                            customer_id                customer_unique_id  \\\n",
              "37713  9418fa1d37504cf6f7dafc0420acf406  494e875bef93610d10c951763389f74e   \n",
              "46858  c2ae2ef380ab9c79079da7e6157cdbba  45f6782e5cab8c938a06f6ae56f9d6c0   \n",
              "53243  73afc72acd21df38d6370f85e399dc31  076cec8e5fb147404b927d1d291ca1fd   \n",
              "\n",
              "       customer_zip_code_prefix      customer_city customer_state  \n",
              "37713                     27170            ipiabas             RJ  \n",
              "46858                     39403      montes claros             MG  \n",
              "53243                     99795  barra do rio azul             RS  "
            ]
          },
          "execution_count": 19,
          "metadata": {},
          "output_type": "execute_result"
        }
      ],
      "source": [
        "customers_df.sample(3)"
      ]
    },
    {
      "cell_type": "markdown",
      "metadata": {},
      "source": [
        "melihat informasi dari customers"
      ]
    },
    {
      "cell_type": "code",
      "execution_count": 20,
      "metadata": {
        "colab": {
          "base_uri": "https://localhost:8080/",
          "height": 414
        },
        "id": "eLbq94Exm-4j",
        "outputId": "b752c1ad-5daa-4c55-a10f-254cfbcfb8be"
      },
      "outputs": [
        {
          "data": {
            "text/html": [
              "<div>\n",
              "<style scoped>\n",
              "    .dataframe tbody tr th:only-of-type {\n",
              "        vertical-align: middle;\n",
              "    }\n",
              "\n",
              "    .dataframe tbody tr th {\n",
              "        vertical-align: top;\n",
              "    }\n",
              "\n",
              "    .dataframe thead th {\n",
              "        text-align: right;\n",
              "    }\n",
              "</style>\n",
              "<table border=\"1\" class=\"dataframe\">\n",
              "  <thead>\n",
              "    <tr style=\"text-align: right;\">\n",
              "      <th></th>\n",
              "      <th>customer_id</th>\n",
              "      <th>customer_unique_id</th>\n",
              "      <th>customer_zip_code_prefix</th>\n",
              "      <th>customer_city</th>\n",
              "      <th>customer_state</th>\n",
              "    </tr>\n",
              "  </thead>\n",
              "  <tbody>\n",
              "    <tr>\n",
              "      <th>count</th>\n",
              "      <td>99441</td>\n",
              "      <td>99441</td>\n",
              "      <td>99441.000000</td>\n",
              "      <td>99441</td>\n",
              "      <td>99441</td>\n",
              "    </tr>\n",
              "    <tr>\n",
              "      <th>unique</th>\n",
              "      <td>99441</td>\n",
              "      <td>96096</td>\n",
              "      <td>NaN</td>\n",
              "      <td>4119</td>\n",
              "      <td>27</td>\n",
              "    </tr>\n",
              "    <tr>\n",
              "      <th>top</th>\n",
              "      <td>06b8999e2fba1a1fbc88172c00ba8bc7</td>\n",
              "      <td>8d50f5eadf50201ccdcedfb9e2ac8455</td>\n",
              "      <td>NaN</td>\n",
              "      <td>sao paulo</td>\n",
              "      <td>SP</td>\n",
              "    </tr>\n",
              "    <tr>\n",
              "      <th>freq</th>\n",
              "      <td>1</td>\n",
              "      <td>17</td>\n",
              "      <td>NaN</td>\n",
              "      <td>15540</td>\n",
              "      <td>41746</td>\n",
              "    </tr>\n",
              "    <tr>\n",
              "      <th>mean</th>\n",
              "      <td>NaN</td>\n",
              "      <td>NaN</td>\n",
              "      <td>35137.474583</td>\n",
              "      <td>NaN</td>\n",
              "      <td>NaN</td>\n",
              "    </tr>\n",
              "    <tr>\n",
              "      <th>std</th>\n",
              "      <td>NaN</td>\n",
              "      <td>NaN</td>\n",
              "      <td>29797.938996</td>\n",
              "      <td>NaN</td>\n",
              "      <td>NaN</td>\n",
              "    </tr>\n",
              "    <tr>\n",
              "      <th>min</th>\n",
              "      <td>NaN</td>\n",
              "      <td>NaN</td>\n",
              "      <td>1003.000000</td>\n",
              "      <td>NaN</td>\n",
              "      <td>NaN</td>\n",
              "    </tr>\n",
              "    <tr>\n",
              "      <th>25%</th>\n",
              "      <td>NaN</td>\n",
              "      <td>NaN</td>\n",
              "      <td>11347.000000</td>\n",
              "      <td>NaN</td>\n",
              "      <td>NaN</td>\n",
              "    </tr>\n",
              "    <tr>\n",
              "      <th>50%</th>\n",
              "      <td>NaN</td>\n",
              "      <td>NaN</td>\n",
              "      <td>24416.000000</td>\n",
              "      <td>NaN</td>\n",
              "      <td>NaN</td>\n",
              "    </tr>\n",
              "    <tr>\n",
              "      <th>75%</th>\n",
              "      <td>NaN</td>\n",
              "      <td>NaN</td>\n",
              "      <td>58900.000000</td>\n",
              "      <td>NaN</td>\n",
              "      <td>NaN</td>\n",
              "    </tr>\n",
              "    <tr>\n",
              "      <th>max</th>\n",
              "      <td>NaN</td>\n",
              "      <td>NaN</td>\n",
              "      <td>99990.000000</td>\n",
              "      <td>NaN</td>\n",
              "      <td>NaN</td>\n",
              "    </tr>\n",
              "  </tbody>\n",
              "</table>\n",
              "</div>"
            ],
            "text/plain": [
              "                             customer_id                customer_unique_id  \\\n",
              "count                              99441                             99441   \n",
              "unique                             99441                             96096   \n",
              "top     06b8999e2fba1a1fbc88172c00ba8bc7  8d50f5eadf50201ccdcedfb9e2ac8455   \n",
              "freq                                   1                                17   \n",
              "mean                                 NaN                               NaN   \n",
              "std                                  NaN                               NaN   \n",
              "min                                  NaN                               NaN   \n",
              "25%                                  NaN                               NaN   \n",
              "50%                                  NaN                               NaN   \n",
              "75%                                  NaN                               NaN   \n",
              "max                                  NaN                               NaN   \n",
              "\n",
              "        customer_zip_code_prefix customer_city customer_state  \n",
              "count               99441.000000         99441          99441  \n",
              "unique                       NaN          4119             27  \n",
              "top                          NaN     sao paulo             SP  \n",
              "freq                         NaN         15540          41746  \n",
              "mean                35137.474583           NaN            NaN  \n",
              "std                 29797.938996           NaN            NaN  \n",
              "min                  1003.000000           NaN            NaN  \n",
              "25%                 11347.000000           NaN            NaN  \n",
              "50%                 24416.000000           NaN            NaN  \n",
              "75%                 58900.000000           NaN            NaN  \n",
              "max                 99990.000000           NaN            NaN  "
            ]
          },
          "execution_count": 20,
          "metadata": {},
          "output_type": "execute_result"
        }
      ],
      "source": [
        "customers_df.describe(include='all')"
      ]
    },
    {
      "cell_type": "markdown",
      "metadata": {},
      "source": [
        "mencheck apakah ada customer id yang sama"
      ]
    },
    {
      "cell_type": "code",
      "execution_count": 21,
      "metadata": {
        "colab": {
          "base_uri": "https://localhost:8080/"
        },
        "id": "TXshz9I3nHGb",
        "outputId": "65e3bb60-f219-4c74-c586-7a0b45759bf4"
      },
      "outputs": [
        {
          "data": {
            "text/plain": [
              "True"
            ]
          },
          "execution_count": 21,
          "metadata": {},
          "output_type": "execute_result"
        }
      ],
      "source": [
        "customers_df.customer_id.is_unique"
      ]
    },
    {
      "cell_type": "code",
      "execution_count": 22,
      "metadata": {
        "colab": {
          "base_uri": "https://localhost:8080/",
          "height": 394
        },
        "id": "F2A5Fb8An5wv",
        "outputId": "d7453f45-1193-4fd8-a536-200ff0fd287c"
      },
      "outputs": [
        {
          "data": {
            "text/html": [
              "<div>\n",
              "<style scoped>\n",
              "    .dataframe tbody tr th:only-of-type {\n",
              "        vertical-align: middle;\n",
              "    }\n",
              "\n",
              "    .dataframe tbody tr th {\n",
              "        vertical-align: top;\n",
              "    }\n",
              "\n",
              "    .dataframe thead th {\n",
              "        text-align: right;\n",
              "    }\n",
              "</style>\n",
              "<table border=\"1\" class=\"dataframe\">\n",
              "  <thead>\n",
              "    <tr style=\"text-align: right;\">\n",
              "      <th></th>\n",
              "      <th>customer_id</th>\n",
              "      <th>customer_unique_id</th>\n",
              "      <th>customer_zip_code_prefix</th>\n",
              "      <th>customer_city</th>\n",
              "      <th>customer_state</th>\n",
              "    </tr>\n",
              "  </thead>\n",
              "  <tbody>\n",
              "    <tr>\n",
              "      <th>count</th>\n",
              "      <td>0</td>\n",
              "      <td>0</td>\n",
              "      <td>0.0</td>\n",
              "      <td>0</td>\n",
              "      <td>0</td>\n",
              "    </tr>\n",
              "    <tr>\n",
              "      <th>unique</th>\n",
              "      <td>0</td>\n",
              "      <td>0</td>\n",
              "      <td>NaN</td>\n",
              "      <td>0</td>\n",
              "      <td>0</td>\n",
              "    </tr>\n",
              "    <tr>\n",
              "      <th>top</th>\n",
              "      <td>NaN</td>\n",
              "      <td>NaN</td>\n",
              "      <td>NaN</td>\n",
              "      <td>NaN</td>\n",
              "      <td>NaN</td>\n",
              "    </tr>\n",
              "    <tr>\n",
              "      <th>freq</th>\n",
              "      <td>NaN</td>\n",
              "      <td>NaN</td>\n",
              "      <td>NaN</td>\n",
              "      <td>NaN</td>\n",
              "      <td>NaN</td>\n",
              "    </tr>\n",
              "    <tr>\n",
              "      <th>mean</th>\n",
              "      <td>NaN</td>\n",
              "      <td>NaN</td>\n",
              "      <td>NaN</td>\n",
              "      <td>NaN</td>\n",
              "      <td>NaN</td>\n",
              "    </tr>\n",
              "    <tr>\n",
              "      <th>std</th>\n",
              "      <td>NaN</td>\n",
              "      <td>NaN</td>\n",
              "      <td>NaN</td>\n",
              "      <td>NaN</td>\n",
              "      <td>NaN</td>\n",
              "    </tr>\n",
              "    <tr>\n",
              "      <th>min</th>\n",
              "      <td>NaN</td>\n",
              "      <td>NaN</td>\n",
              "      <td>NaN</td>\n",
              "      <td>NaN</td>\n",
              "      <td>NaN</td>\n",
              "    </tr>\n",
              "    <tr>\n",
              "      <th>25%</th>\n",
              "      <td>NaN</td>\n",
              "      <td>NaN</td>\n",
              "      <td>NaN</td>\n",
              "      <td>NaN</td>\n",
              "      <td>NaN</td>\n",
              "    </tr>\n",
              "    <tr>\n",
              "      <th>50%</th>\n",
              "      <td>NaN</td>\n",
              "      <td>NaN</td>\n",
              "      <td>NaN</td>\n",
              "      <td>NaN</td>\n",
              "      <td>NaN</td>\n",
              "    </tr>\n",
              "    <tr>\n",
              "      <th>75%</th>\n",
              "      <td>NaN</td>\n",
              "      <td>NaN</td>\n",
              "      <td>NaN</td>\n",
              "      <td>NaN</td>\n",
              "      <td>NaN</td>\n",
              "    </tr>\n",
              "    <tr>\n",
              "      <th>max</th>\n",
              "      <td>NaN</td>\n",
              "      <td>NaN</td>\n",
              "      <td>NaN</td>\n",
              "      <td>NaN</td>\n",
              "      <td>NaN</td>\n",
              "    </tr>\n",
              "  </tbody>\n",
              "</table>\n",
              "</div>"
            ],
            "text/plain": [
              "       customer_id customer_unique_id  customer_zip_code_prefix customer_city  \\\n",
              "count            0                  0                       0.0             0   \n",
              "unique           0                  0                       NaN             0   \n",
              "top            NaN                NaN                       NaN           NaN   \n",
              "freq           NaN                NaN                       NaN           NaN   \n",
              "mean           NaN                NaN                       NaN           NaN   \n",
              "std            NaN                NaN                       NaN           NaN   \n",
              "min            NaN                NaN                       NaN           NaN   \n",
              "25%            NaN                NaN                       NaN           NaN   \n",
              "50%            NaN                NaN                       NaN           NaN   \n",
              "75%            NaN                NaN                       NaN           NaN   \n",
              "max            NaN                NaN                       NaN           NaN   \n",
              "\n",
              "       customer_state  \n",
              "count               0  \n",
              "unique              0  \n",
              "top               NaN  \n",
              "freq              NaN  \n",
              "mean              NaN  \n",
              "std               NaN  \n",
              "min               NaN  \n",
              "25%               NaN  \n",
              "50%               NaN  \n",
              "75%               NaN  \n",
              "max               NaN  "
            ]
          },
          "execution_count": 22,
          "metadata": {},
          "output_type": "execute_result"
        }
      ],
      "source": [
        "duplicated_rows = customers_df[customers_df.customer_id.duplicated()]\n",
        "duplicated_rows.describe(include='all')"
      ]
    },
    {
      "cell_type": "markdown",
      "metadata": {},
      "source": [
        "melihat semua customer id yang unique di setiap customer city"
      ]
    },
    {
      "cell_type": "code",
      "execution_count": 23,
      "metadata": {
        "colab": {
          "base_uri": "https://localhost:8080/"
        },
        "id": "VPaNKIjfoEUr",
        "outputId": "80bf4795-f56d-412c-f085-e2833969a36f"
      },
      "outputs": [
        {
          "data": {
            "text/plain": [
              "customer_city\n",
              "sao paulo         15540\n",
              "rio de janeiro     6882\n",
              "belo horizonte     2773\n",
              "brasilia           2131\n",
              "curitiba           1521\n",
              "                  ...  \n",
              "ibiara                1\n",
              "rio espera            1\n",
              "rio dos indios        1\n",
              "rio dos cedros        1\n",
              "lagoao                1\n",
              "Name: customer_id, Length: 4119, dtype: int64"
            ]
          },
          "execution_count": 23,
          "metadata": {},
          "output_type": "execute_result"
        }
      ],
      "source": [
        "customers_df.groupby(by=\"customer_city\").customer_id.nunique().sort_values(ascending=False)"
      ]
    },
    {
      "cell_type": "markdown",
      "metadata": {},
      "source": [
        "melihat semua customer id yang unique di setiap customer state"
      ]
    },
    {
      "cell_type": "code",
      "execution_count": 24,
      "metadata": {
        "colab": {
          "base_uri": "https://localhost:8080/"
        },
        "id": "Vt9p78JOoNaF",
        "outputId": "bdc023bf-ab3c-4bec-db30-81ba18a9c13f"
      },
      "outputs": [
        {
          "data": {
            "text/plain": [
              "customer_state\n",
              "SP    41746\n",
              "RJ    12852\n",
              "MG    11635\n",
              "RS     5466\n",
              "PR     5045\n",
              "SC     3637\n",
              "BA     3380\n",
              "DF     2140\n",
              "ES     2033\n",
              "GO     2020\n",
              "PE     1652\n",
              "CE     1336\n",
              "PA      975\n",
              "MT      907\n",
              "MA      747\n",
              "MS      715\n",
              "PB      536\n",
              "PI      495\n",
              "RN      485\n",
              "AL      413\n",
              "SE      350\n",
              "TO      280\n",
              "RO      253\n",
              "AM      148\n",
              "AC       81\n",
              "AP       68\n",
              "RR       46\n",
              "Name: customer_id, dtype: int64"
            ]
          },
          "execution_count": 24,
          "metadata": {},
          "output_type": "execute_result"
        }
      ],
      "source": [
        "customers_df.groupby(by=\"customer_state\").customer_id.nunique().sort_values(ascending=False)"
      ]
    },
    {
      "cell_type": "markdown",
      "metadata": {},
      "source": [
        "rename customer_state menjadi state"
      ]
    },
    {
      "cell_type": "code",
      "execution_count": 25,
      "metadata": {},
      "outputs": [
        {
          "data": {
            "text/html": [
              "<div>\n",
              "<style scoped>\n",
              "    .dataframe tbody tr th:only-of-type {\n",
              "        vertical-align: middle;\n",
              "    }\n",
              "\n",
              "    .dataframe tbody tr th {\n",
              "        vertical-align: top;\n",
              "    }\n",
              "\n",
              "    .dataframe thead th {\n",
              "        text-align: right;\n",
              "    }\n",
              "</style>\n",
              "<table border=\"1\" class=\"dataframe\">\n",
              "  <thead>\n",
              "    <tr style=\"text-align: right;\">\n",
              "      <th></th>\n",
              "      <th>customer_id</th>\n",
              "      <th>customer_unique_id</th>\n",
              "      <th>customer_zip_code_prefix</th>\n",
              "      <th>customer_city</th>\n",
              "      <th>state</th>\n",
              "    </tr>\n",
              "  </thead>\n",
              "  <tbody>\n",
              "    <tr>\n",
              "      <th>0</th>\n",
              "      <td>06b8999e2fba1a1fbc88172c00ba8bc7</td>\n",
              "      <td>861eff4711a542e4b93843c6dd7febb0</td>\n",
              "      <td>14409</td>\n",
              "      <td>franca</td>\n",
              "      <td>SP</td>\n",
              "    </tr>\n",
              "    <tr>\n",
              "      <th>1</th>\n",
              "      <td>18955e83d337fd6b2def6b18a428ac77</td>\n",
              "      <td>290c77bc529b7ac935b93aa66c333dc3</td>\n",
              "      <td>9790</td>\n",
              "      <td>sao bernardo do campo</td>\n",
              "      <td>SP</td>\n",
              "    </tr>\n",
              "    <tr>\n",
              "      <th>2</th>\n",
              "      <td>4e7b3e00288586ebd08712fdd0374a03</td>\n",
              "      <td>060e732b5b29e8181a18229c7b0b2b5e</td>\n",
              "      <td>1151</td>\n",
              "      <td>sao paulo</td>\n",
              "      <td>SP</td>\n",
              "    </tr>\n",
              "    <tr>\n",
              "      <th>3</th>\n",
              "      <td>b2b6027bc5c5109e529d4dc6358b12c3</td>\n",
              "      <td>259dac757896d24d7702b9acbbff3f3c</td>\n",
              "      <td>8775</td>\n",
              "      <td>mogi das cruzes</td>\n",
              "      <td>SP</td>\n",
              "    </tr>\n",
              "    <tr>\n",
              "      <th>4</th>\n",
              "      <td>4f2d8ab171c80ec8364f7c12e35b23ad</td>\n",
              "      <td>345ecd01c38d18a9036ed96c73b8d066</td>\n",
              "      <td>13056</td>\n",
              "      <td>campinas</td>\n",
              "      <td>SP</td>\n",
              "    </tr>\n",
              "    <tr>\n",
              "      <th>...</th>\n",
              "      <td>...</td>\n",
              "      <td>...</td>\n",
              "      <td>...</td>\n",
              "      <td>...</td>\n",
              "      <td>...</td>\n",
              "    </tr>\n",
              "    <tr>\n",
              "      <th>99436</th>\n",
              "      <td>17ddf5dd5d51696bb3d7c6291687be6f</td>\n",
              "      <td>1a29b476fee25c95fbafc67c5ac95cf8</td>\n",
              "      <td>3937</td>\n",
              "      <td>sao paulo</td>\n",
              "      <td>SP</td>\n",
              "    </tr>\n",
              "    <tr>\n",
              "      <th>99437</th>\n",
              "      <td>e7b71a9017aa05c9a7fd292d714858e8</td>\n",
              "      <td>d52a67c98be1cf6a5c84435bd38d095d</td>\n",
              "      <td>6764</td>\n",
              "      <td>taboao da serra</td>\n",
              "      <td>SP</td>\n",
              "    </tr>\n",
              "    <tr>\n",
              "      <th>99438</th>\n",
              "      <td>5e28dfe12db7fb50a4b2f691faecea5e</td>\n",
              "      <td>e9f50caf99f032f0bf3c55141f019d99</td>\n",
              "      <td>60115</td>\n",
              "      <td>fortaleza</td>\n",
              "      <td>CE</td>\n",
              "    </tr>\n",
              "    <tr>\n",
              "      <th>99439</th>\n",
              "      <td>56b18e2166679b8a959d72dd06da27f9</td>\n",
              "      <td>73c2643a0a458b49f58cea58833b192e</td>\n",
              "      <td>92120</td>\n",
              "      <td>canoas</td>\n",
              "      <td>RS</td>\n",
              "    </tr>\n",
              "    <tr>\n",
              "      <th>99440</th>\n",
              "      <td>274fa6071e5e17fe303b9748641082c8</td>\n",
              "      <td>84732c5050c01db9b23e19ba39899398</td>\n",
              "      <td>6703</td>\n",
              "      <td>cotia</td>\n",
              "      <td>SP</td>\n",
              "    </tr>\n",
              "  </tbody>\n",
              "</table>\n",
              "<p>99441 rows × 5 columns</p>\n",
              "</div>"
            ],
            "text/plain": [
              "                            customer_id                customer_unique_id  \\\n",
              "0      06b8999e2fba1a1fbc88172c00ba8bc7  861eff4711a542e4b93843c6dd7febb0   \n",
              "1      18955e83d337fd6b2def6b18a428ac77  290c77bc529b7ac935b93aa66c333dc3   \n",
              "2      4e7b3e00288586ebd08712fdd0374a03  060e732b5b29e8181a18229c7b0b2b5e   \n",
              "3      b2b6027bc5c5109e529d4dc6358b12c3  259dac757896d24d7702b9acbbff3f3c   \n",
              "4      4f2d8ab171c80ec8364f7c12e35b23ad  345ecd01c38d18a9036ed96c73b8d066   \n",
              "...                                 ...                               ...   \n",
              "99436  17ddf5dd5d51696bb3d7c6291687be6f  1a29b476fee25c95fbafc67c5ac95cf8   \n",
              "99437  e7b71a9017aa05c9a7fd292d714858e8  d52a67c98be1cf6a5c84435bd38d095d   \n",
              "99438  5e28dfe12db7fb50a4b2f691faecea5e  e9f50caf99f032f0bf3c55141f019d99   \n",
              "99439  56b18e2166679b8a959d72dd06da27f9  73c2643a0a458b49f58cea58833b192e   \n",
              "99440  274fa6071e5e17fe303b9748641082c8  84732c5050c01db9b23e19ba39899398   \n",
              "\n",
              "       customer_zip_code_prefix          customer_city state  \n",
              "0                         14409                 franca    SP  \n",
              "1                          9790  sao bernardo do campo    SP  \n",
              "2                          1151              sao paulo    SP  \n",
              "3                          8775        mogi das cruzes    SP  \n",
              "4                         13056               campinas    SP  \n",
              "...                         ...                    ...   ...  \n",
              "99436                      3937              sao paulo    SP  \n",
              "99437                      6764        taboao da serra    SP  \n",
              "99438                     60115              fortaleza    CE  \n",
              "99439                     92120                 canoas    RS  \n",
              "99440                      6703                  cotia    SP  \n",
              "\n",
              "[99441 rows x 5 columns]"
            ]
          },
          "metadata": {},
          "output_type": "display_data"
        }
      ],
      "source": [
        "customers_df.rename(columns={'customer_state': 'state'}, inplace=True)\n",
        "display(customers_df)\n"
      ]
    },
    {
      "cell_type": "markdown",
      "metadata": {},
      "source": [
        "mencheck apakah customers df tidak ada duplikat"
      ]
    },
    {
      "cell_type": "code",
      "execution_count": 26,
      "metadata": {},
      "outputs": [
        {
          "data": {
            "text/plain": [
              "True"
            ]
          },
          "execution_count": 26,
          "metadata": {},
          "output_type": "execute_result"
        }
      ],
      "source": [
        "customers_df.customer_id.is_unique"
      ]
    },
    {
      "cell_type": "markdown",
      "metadata": {},
      "source": [
        "Karena output True, maka tdata customer_id tidak ada duplikat"
      ]
    },
    {
      "cell_type": "markdown",
      "metadata": {
        "id": "HFzgVYzVpBWd"
      },
      "source": [
        "### Explore orders_df\n"
      ]
    },
    {
      "cell_type": "markdown",
      "metadata": {},
      "source": [
        "melihat sample orders"
      ]
    },
    {
      "cell_type": "code",
      "execution_count": 27,
      "metadata": {
        "colab": {
          "base_uri": "https://localhost:8080/",
          "height": 226
        },
        "id": "MVTPIznypF_j",
        "outputId": "21fda7bd-8e96-4972-d412-0849346ebd00"
      },
      "outputs": [
        {
          "data": {
            "text/html": [
              "<div>\n",
              "<style scoped>\n",
              "    .dataframe tbody tr th:only-of-type {\n",
              "        vertical-align: middle;\n",
              "    }\n",
              "\n",
              "    .dataframe tbody tr th {\n",
              "        vertical-align: top;\n",
              "    }\n",
              "\n",
              "    .dataframe thead th {\n",
              "        text-align: right;\n",
              "    }\n",
              "</style>\n",
              "<table border=\"1\" class=\"dataframe\">\n",
              "  <thead>\n",
              "    <tr style=\"text-align: right;\">\n",
              "      <th></th>\n",
              "      <th>order_id</th>\n",
              "      <th>customer_id</th>\n",
              "      <th>order_status</th>\n",
              "      <th>order_purchase_timestamp</th>\n",
              "      <th>order_approved_at</th>\n",
              "      <th>order_delivered_carrier_date</th>\n",
              "      <th>order_delivered_customer_date</th>\n",
              "      <th>order_estimated_delivery_date</th>\n",
              "    </tr>\n",
              "  </thead>\n",
              "  <tbody>\n",
              "    <tr>\n",
              "      <th>27618</th>\n",
              "      <td>1beff5a1483dd3918e704891418a9f05</td>\n",
              "      <td>cee11660eb771d4df1804dbfe426dbfe</td>\n",
              "      <td>delivered</td>\n",
              "      <td>2018-03-12 22:48:43</td>\n",
              "      <td>2018-03-12 23:08:18</td>\n",
              "      <td>2018-03-13 19:34:34</td>\n",
              "      <td>2018-04-04 21:08:45</td>\n",
              "      <td>2018-04-03</td>\n",
              "    </tr>\n",
              "    <tr>\n",
              "      <th>92109</th>\n",
              "      <td>0ea5190efe3edc73c0420f49af34383b</td>\n",
              "      <td>a18b3ef134201e61ebd69aa3f2eea60f</td>\n",
              "      <td>delivered</td>\n",
              "      <td>2017-03-16 22:52:49</td>\n",
              "      <td>2017-03-16 22:52:49</td>\n",
              "      <td>2017-03-23 11:53:45</td>\n",
              "      <td>2017-04-03 15:20:06</td>\n",
              "      <td>2017-04-17</td>\n",
              "    </tr>\n",
              "    <tr>\n",
              "      <th>19385</th>\n",
              "      <td>dc5e5ca2d07c93091a87b58d9888769a</td>\n",
              "      <td>b66eb836bd246ad0c47175234a34d775</td>\n",
              "      <td>delivered</td>\n",
              "      <td>2018-05-02 11:04:44</td>\n",
              "      <td>2018-05-02 11:15:18</td>\n",
              "      <td>2018-05-02 13:17:00</td>\n",
              "      <td>2018-05-08 17:44:30</td>\n",
              "      <td>2018-05-21</td>\n",
              "    </tr>\n",
              "    <tr>\n",
              "      <th>21474</th>\n",
              "      <td>037f4f91c8f5cd2a6ddd52a63d97fdcc</td>\n",
              "      <td>b5dbaddb7666f875d9a348cb0584823e</td>\n",
              "      <td>delivered</td>\n",
              "      <td>2018-07-18 21:08:44</td>\n",
              "      <td>2018-07-18 21:15:21</td>\n",
              "      <td>2018-07-19 10:06:00</td>\n",
              "      <td>2018-07-23 11:41:56</td>\n",
              "      <td>2018-08-01</td>\n",
              "    </tr>\n",
              "    <tr>\n",
              "      <th>83425</th>\n",
              "      <td>2508a4e7eaf40f21355892834c2eb54d</td>\n",
              "      <td>9dc43b5f2a289fa4e26d504ec141e07d</td>\n",
              "      <td>delivered</td>\n",
              "      <td>2017-12-04 13:37:59</td>\n",
              "      <td>2017-12-05 04:17:37</td>\n",
              "      <td>2017-12-11 19:39:42</td>\n",
              "      <td>2017-12-14 00:09:36</td>\n",
              "      <td>2018-01-04</td>\n",
              "    </tr>\n",
              "  </tbody>\n",
              "</table>\n",
              "</div>"
            ],
            "text/plain": [
              "                               order_id                       customer_id  \\\n",
              "27618  1beff5a1483dd3918e704891418a9f05  cee11660eb771d4df1804dbfe426dbfe   \n",
              "92109  0ea5190efe3edc73c0420f49af34383b  a18b3ef134201e61ebd69aa3f2eea60f   \n",
              "19385  dc5e5ca2d07c93091a87b58d9888769a  b66eb836bd246ad0c47175234a34d775   \n",
              "21474  037f4f91c8f5cd2a6ddd52a63d97fdcc  b5dbaddb7666f875d9a348cb0584823e   \n",
              "83425  2508a4e7eaf40f21355892834c2eb54d  9dc43b5f2a289fa4e26d504ec141e07d   \n",
              "\n",
              "      order_status order_purchase_timestamp   order_approved_at  \\\n",
              "27618    delivered      2018-03-12 22:48:43 2018-03-12 23:08:18   \n",
              "92109    delivered      2017-03-16 22:52:49 2017-03-16 22:52:49   \n",
              "19385    delivered      2018-05-02 11:04:44 2018-05-02 11:15:18   \n",
              "21474    delivered      2018-07-18 21:08:44 2018-07-18 21:15:21   \n",
              "83425    delivered      2017-12-04 13:37:59 2017-12-05 04:17:37   \n",
              "\n",
              "      order_delivered_carrier_date order_delivered_customer_date  \\\n",
              "27618          2018-03-13 19:34:34           2018-04-04 21:08:45   \n",
              "92109          2017-03-23 11:53:45           2017-04-03 15:20:06   \n",
              "19385          2018-05-02 13:17:00           2018-05-08 17:44:30   \n",
              "21474          2018-07-19 10:06:00           2018-07-23 11:41:56   \n",
              "83425          2017-12-11 19:39:42           2017-12-14 00:09:36   \n",
              "\n",
              "      order_estimated_delivery_date  \n",
              "27618                    2018-04-03  \n",
              "92109                    2017-04-17  \n",
              "19385                    2018-05-21  \n",
              "21474                    2018-08-01  \n",
              "83425                    2018-01-04  "
            ]
          },
          "execution_count": 27,
          "metadata": {},
          "output_type": "execute_result"
        }
      ],
      "source": [
        "orders_df.sample(5)"
      ]
    },
    {
      "cell_type": "markdown",
      "metadata": {},
      "source": [
        "membuat kolom delivery time yang bersisi waktu (hari) untuk mengantar lalu dibulatkan"
      ]
    },
    {
      "cell_type": "code",
      "execution_count": 28,
      "metadata": {
        "colab": {
          "base_uri": "https://localhost:8080/",
          "height": 226
        },
        "id": "pSaQjOAypK_D",
        "outputId": "135661e0-69dc-4955-a30b-fd8f12083e1f"
      },
      "outputs": [
        {
          "data": {
            "text/html": [
              "<div>\n",
              "<style scoped>\n",
              "    .dataframe tbody tr th:only-of-type {\n",
              "        vertical-align: middle;\n",
              "    }\n",
              "\n",
              "    .dataframe tbody tr th {\n",
              "        vertical-align: top;\n",
              "    }\n",
              "\n",
              "    .dataframe thead th {\n",
              "        text-align: right;\n",
              "    }\n",
              "</style>\n",
              "<table border=\"1\" class=\"dataframe\">\n",
              "  <thead>\n",
              "    <tr style=\"text-align: right;\">\n",
              "      <th></th>\n",
              "      <th>order_id</th>\n",
              "      <th>customer_id</th>\n",
              "      <th>order_status</th>\n",
              "      <th>order_purchase_timestamp</th>\n",
              "      <th>order_approved_at</th>\n",
              "      <th>order_delivered_carrier_date</th>\n",
              "      <th>order_delivered_customer_date</th>\n",
              "      <th>order_estimated_delivery_date</th>\n",
              "      <th>delivery_time</th>\n",
              "    </tr>\n",
              "  </thead>\n",
              "  <tbody>\n",
              "    <tr>\n",
              "      <th>72039</th>\n",
              "      <td>f3673235fed9c71ed5d7ae997aba157c</td>\n",
              "      <td>34430dd857cfe2224e2cdc97bb23b788</td>\n",
              "      <td>delivered</td>\n",
              "      <td>2017-07-01 20:27:50</td>\n",
              "      <td>2017-07-01 20:44:03</td>\n",
              "      <td>2017-07-03 15:21:17</td>\n",
              "      <td>2017-07-04 18:08:43</td>\n",
              "      <td>2017-07-14</td>\n",
              "      <td>1.1</td>\n",
              "    </tr>\n",
              "    <tr>\n",
              "      <th>27009</th>\n",
              "      <td>e3c07c6d221a59d8d8ef6e9b3e0e3241</td>\n",
              "      <td>327add8939ed5d751acf04a85388e975</td>\n",
              "      <td>delivered</td>\n",
              "      <td>2018-05-17 17:56:46</td>\n",
              "      <td>2018-05-18 04:35:51</td>\n",
              "      <td>2018-05-18 12:16:00</td>\n",
              "      <td>2018-05-21 22:28:43</td>\n",
              "      <td>2018-05-25</td>\n",
              "      <td>3.4</td>\n",
              "    </tr>\n",
              "    <tr>\n",
              "      <th>22006</th>\n",
              "      <td>26a5b0a07c7ef0706d61bc152fbfd6e2</td>\n",
              "      <td>f270cf26e97ca58a0324f8c260bd244b</td>\n",
              "      <td>delivered</td>\n",
              "      <td>2018-05-01 22:54:16</td>\n",
              "      <td>2018-05-03 04:52:37</td>\n",
              "      <td>2018-05-03 14:00:00</td>\n",
              "      <td>2018-05-07 16:42:05</td>\n",
              "      <td>2018-05-23</td>\n",
              "      <td>4.1</td>\n",
              "    </tr>\n",
              "    <tr>\n",
              "      <th>36956</th>\n",
              "      <td>07d13d352c85dfbfa60dc56dea818335</td>\n",
              "      <td>b3588b0dfd394759bb0048856f365c95</td>\n",
              "      <td>delivered</td>\n",
              "      <td>2017-01-22 23:07:15</td>\n",
              "      <td>2017-01-24 03:50:36</td>\n",
              "      <td>2017-01-27 14:21:25</td>\n",
              "      <td>2017-02-01 21:23:21</td>\n",
              "      <td>2017-02-28</td>\n",
              "      <td>5.3</td>\n",
              "    </tr>\n",
              "    <tr>\n",
              "      <th>86769</th>\n",
              "      <td>03ce210a1614bb5a5bd3f4e3296840a1</td>\n",
              "      <td>fe007b524829f7a174ea059a23bd0a32</td>\n",
              "      <td>delivered</td>\n",
              "      <td>2018-01-22 18:06:21</td>\n",
              "      <td>2018-01-22 18:16:51</td>\n",
              "      <td>2018-01-23 18:33:51</td>\n",
              "      <td>2018-01-26 18:49:56</td>\n",
              "      <td>2018-02-14</td>\n",
              "      <td>3.0</td>\n",
              "    </tr>\n",
              "  </tbody>\n",
              "</table>\n",
              "</div>"
            ],
            "text/plain": [
              "                               order_id                       customer_id  \\\n",
              "72039  f3673235fed9c71ed5d7ae997aba157c  34430dd857cfe2224e2cdc97bb23b788   \n",
              "27009  e3c07c6d221a59d8d8ef6e9b3e0e3241  327add8939ed5d751acf04a85388e975   \n",
              "22006  26a5b0a07c7ef0706d61bc152fbfd6e2  f270cf26e97ca58a0324f8c260bd244b   \n",
              "36956  07d13d352c85dfbfa60dc56dea818335  b3588b0dfd394759bb0048856f365c95   \n",
              "86769  03ce210a1614bb5a5bd3f4e3296840a1  fe007b524829f7a174ea059a23bd0a32   \n",
              "\n",
              "      order_status order_purchase_timestamp   order_approved_at  \\\n",
              "72039    delivered      2017-07-01 20:27:50 2017-07-01 20:44:03   \n",
              "27009    delivered      2018-05-17 17:56:46 2018-05-18 04:35:51   \n",
              "22006    delivered      2018-05-01 22:54:16 2018-05-03 04:52:37   \n",
              "36956    delivered      2017-01-22 23:07:15 2017-01-24 03:50:36   \n",
              "86769    delivered      2018-01-22 18:06:21 2018-01-22 18:16:51   \n",
              "\n",
              "      order_delivered_carrier_date order_delivered_customer_date  \\\n",
              "72039          2017-07-03 15:21:17           2017-07-04 18:08:43   \n",
              "27009          2018-05-18 12:16:00           2018-05-21 22:28:43   \n",
              "22006          2018-05-03 14:00:00           2018-05-07 16:42:05   \n",
              "36956          2017-01-27 14:21:25           2017-02-01 21:23:21   \n",
              "86769          2018-01-23 18:33:51           2018-01-26 18:49:56   \n",
              "\n",
              "      order_estimated_delivery_date  delivery_time  \n",
              "72039                    2017-07-14            1.1  \n",
              "27009                    2018-05-25            3.4  \n",
              "22006                    2018-05-23            4.1  \n",
              "36956                    2017-02-28            5.3  \n",
              "86769                    2018-02-14            3.0  "
            ]
          },
          "execution_count": 28,
          "metadata": {},
          "output_type": "execute_result"
        }
      ],
      "source": [
        "delivery_time = orders_df[\"order_delivered_customer_date\"] - orders_df[\"order_delivered_carrier_date\"]\n",
        "delivery_time = round(delivery_time.apply(lambda x: x.total_seconds())/86400,1)\n",
        "orders_df[\"delivery_time\"] = delivery_time\n",
        "orders_df.sample(5)"
      ]
    },
    {
      "cell_type": "markdown",
      "metadata": {},
      "source": [
        "membuat histogram dari distribusi waktu pengiriman berdasarkan hari pada delivery_time"
      ]
    },
    {
      "cell_type": "code",
      "execution_count": 29,
      "metadata": {
        "colab": {
          "base_uri": "https://localhost:8080/",
          "height": 489
        },
        "id": "xskW1_p9p3a6",
        "outputId": "c3299352-0036-4506-a4ca-a7e0254d522e"
      },
      "outputs": [
        {
          "data": {
            "text/plain": [
              "<Axes: title={'center': 'Distribusi waktu pengiriman'}, xlabel='Waktu (hari)', ylabel='Jumlah Entries'>"
            ]
          },
          "execution_count": 29,
          "metadata": {},
          "output_type": "execute_result"
        },
        {
          "data": {
            "image/png": "[encoded data removed]",
            "text/plain": [
              "<Figure size 640x480 with 1 Axes>"
            ]
          },
          "metadata": {},
          "output_type": "display_data"
        }
      ],
      "source": [
        "plt.title(\"Distribusi waktu pengiriman\")\n",
        "plt.xlabel(\"Waktu (hari)\")\n",
        "plt.ylabel(\"Jumlah Entries\")\n",
        "plt.xlim(0, 100)\n",
        "orders_df.delivery_time.hist(bins=40,edgecolor='black')"
      ]
    },
    {
      "cell_type": "markdown",
      "metadata": {},
      "source": [
        "Sebagian besar data pengiriman berada pada 20 hari pertama, tetapi sepertinya masih ada entri yang memiliki waktu pengiriman lebih dari 60, kita akan lihat sampel dari waktu pengiriman lebih dari 100 hari"
      ]
    },
    {
      "cell_type": "code",
      "execution_count": 30,
      "metadata": {},
      "outputs": [
        {
          "data": {
            "text/html": [
              "<div>\n",
              "<style scoped>\n",
              "    .dataframe tbody tr th:only-of-type {\n",
              "        vertical-align: middle;\n",
              "    }\n",
              "\n",
              "    .dataframe tbody tr th {\n",
              "        vertical-align: top;\n",
              "    }\n",
              "\n",
              "    .dataframe thead th {\n",
              "        text-align: right;\n",
              "    }\n",
              "</style>\n",
              "<table border=\"1\" class=\"dataframe\">\n",
              "  <thead>\n",
              "    <tr style=\"text-align: right;\">\n",
              "      <th></th>\n",
              "      <th>order_id</th>\n",
              "      <th>customer_id</th>\n",
              "      <th>order_status</th>\n",
              "      <th>order_purchase_timestamp</th>\n",
              "      <th>order_approved_at</th>\n",
              "      <th>order_delivered_carrier_date</th>\n",
              "      <th>order_delivered_customer_date</th>\n",
              "      <th>order_estimated_delivery_date</th>\n",
              "      <th>delivery_time</th>\n",
              "    </tr>\n",
              "  </thead>\n",
              "  <tbody>\n",
              "    <tr>\n",
              "      <th>3202</th>\n",
              "      <td>4f39a94d6e474819d898d6df7d394996</td>\n",
              "      <td>27a410dccb395b6ce45963874d158352</td>\n",
              "      <td>delivered</td>\n",
              "      <td>2017-04-28 16:28:03</td>\n",
              "      <td>2017-04-29 02:42:51</td>\n",
              "      <td>2017-05-09 14:06:48</td>\n",
              "      <td>2017-09-19 13:54:18</td>\n",
              "      <td>2017-05-30</td>\n",
              "      <td>133.0</td>\n",
              "    </tr>\n",
              "    <tr>\n",
              "      <th>81960</th>\n",
              "      <td>094a83226235244840060fafa394845d</td>\n",
              "      <td>4cfaeb298b91a9fe95a03dfda1afa390</td>\n",
              "      <td>delivered</td>\n",
              "      <td>2017-12-18 20:15:41</td>\n",
              "      <td>2017-12-20 16:10:46</td>\n",
              "      <td>2017-12-21 16:59:08</td>\n",
              "      <td>2018-04-03 18:47:29</td>\n",
              "      <td>2018-01-12</td>\n",
              "      <td>103.1</td>\n",
              "    </tr>\n",
              "    <tr>\n",
              "      <th>34262</th>\n",
              "      <td>c5f43352377291361dad9a7366ae1c89</td>\n",
              "      <td>f9796700c0a1d4455471776293bbbc09</td>\n",
              "      <td>delivered</td>\n",
              "      <td>2017-11-22 14:15:15</td>\n",
              "      <td>2017-11-22 21:48:22</td>\n",
              "      <td>2017-11-27 18:57:23</td>\n",
              "      <td>2018-04-06 21:52:36</td>\n",
              "      <td>2017-12-18</td>\n",
              "      <td>130.1</td>\n",
              "    </tr>\n",
              "    <tr>\n",
              "      <th>74117</th>\n",
              "      <td>6e82dcfb5eada6283dba34f164e636f5</td>\n",
              "      <td>59b42de1617fdda0b327375d35efd708</td>\n",
              "      <td>delivered</td>\n",
              "      <td>2017-05-17 19:09:02</td>\n",
              "      <td>2017-05-18 19:22:29</td>\n",
              "      <td>2017-05-19 10:57:36</td>\n",
              "      <td>2017-11-16 10:56:45</td>\n",
              "      <td>2017-06-14</td>\n",
              "      <td>181.0</td>\n",
              "    </tr>\n",
              "    <tr>\n",
              "      <th>64738</th>\n",
              "      <td>28f12a3e5117f5e70bbdb45be9188639</td>\n",
              "      <td>71ae2df0198f8dab9a73978e46b63c6f</td>\n",
              "      <td>delivered</td>\n",
              "      <td>2017-05-03 19:34:48</td>\n",
              "      <td>2017-05-03 19:45:10</td>\n",
              "      <td>2017-05-04 09:48:44</td>\n",
              "      <td>2017-09-19 16:38:49</td>\n",
              "      <td>2017-06-07</td>\n",
              "      <td>138.3</td>\n",
              "    </tr>\n",
              "    <tr>\n",
              "      <th>55619</th>\n",
              "      <td>1b3190b2dfa9d789e1f14c05b647a14a</td>\n",
              "      <td>d306426abe5fca15e54b645e4462dc7b</td>\n",
              "      <td>delivered</td>\n",
              "      <td>2018-02-23 14:57:35</td>\n",
              "      <td>2018-02-23 15:16:14</td>\n",
              "      <td>2018-02-26 18:49:07</td>\n",
              "      <td>2018-09-19 23:24:07</td>\n",
              "      <td>2018-03-15</td>\n",
              "      <td>205.2</td>\n",
              "    </tr>\n",
              "    <tr>\n",
              "      <th>70307</th>\n",
              "      <td>2fb597c2f772eca01b1f5c561bf6cc7b</td>\n",
              "      <td>217906bc11a32c1e470eb7e08584894b</td>\n",
              "      <td>delivered</td>\n",
              "      <td>2017-03-08 18:09:02</td>\n",
              "      <td>2017-03-08 18:09:02</td>\n",
              "      <td>2017-03-13 08:54:02</td>\n",
              "      <td>2017-09-19 14:33:17</td>\n",
              "      <td>2017-04-17</td>\n",
              "      <td>190.2</td>\n",
              "    </tr>\n",
              "    <tr>\n",
              "      <th>32124</th>\n",
              "      <td>773f048245dc975a5f7c67c2415c88a0</td>\n",
              "      <td>1ad8bdb3f2f3403ef79ad8d80dc8d425</td>\n",
              "      <td>delivered</td>\n",
              "      <td>2018-01-24 16:45:34</td>\n",
              "      <td>2018-01-25 16:37:31</td>\n",
              "      <td>2018-01-26 18:22:07</td>\n",
              "      <td>2018-05-30 16:56:49</td>\n",
              "      <td>2018-02-23</td>\n",
              "      <td>123.9</td>\n",
              "    </tr>\n",
              "    <tr>\n",
              "      <th>12813</th>\n",
              "      <td>c2a550cc5f966506b717532441c221e5</td>\n",
              "      <td>fc99aeadad12e8925f558305956a08aa</td>\n",
              "      <td>delivered</td>\n",
              "      <td>2018-01-12 15:38:34</td>\n",
              "      <td>2018-01-13 15:33:31</td>\n",
              "      <td>2018-01-15 15:46:55</td>\n",
              "      <td>2018-05-23 20:56:25</td>\n",
              "      <td>2018-02-08</td>\n",
              "      <td>128.2</td>\n",
              "    </tr>\n",
              "    <tr>\n",
              "      <th>95136</th>\n",
              "      <td>17cc6728043d53cc948551dfbf0a338b</td>\n",
              "      <td>dcfb92c7e6d519560090aeb5bfa03f0c</td>\n",
              "      <td>delivered</td>\n",
              "      <td>2017-11-25 12:14:38</td>\n",
              "      <td>2017-11-25 12:33:04</td>\n",
              "      <td>2017-11-28 18:19:49</td>\n",
              "      <td>2018-04-16 23:26:51</td>\n",
              "      <td>2017-12-27</td>\n",
              "      <td>139.2</td>\n",
              "    </tr>\n",
              "  </tbody>\n",
              "</table>\n",
              "</div>"
            ],
            "text/plain": [
              "                               order_id                       customer_id  \\\n",
              "3202   4f39a94d6e474819d898d6df7d394996  27a410dccb395b6ce45963874d158352   \n",
              "81960  094a83226235244840060fafa394845d  4cfaeb298b91a9fe95a03dfda1afa390   \n",
              "34262  c5f43352377291361dad9a7366ae1c89  f9796700c0a1d4455471776293bbbc09   \n",
              "74117  6e82dcfb5eada6283dba34f164e636f5  59b42de1617fdda0b327375d35efd708   \n",
              "64738  28f12a3e5117f5e70bbdb45be9188639  71ae2df0198f8dab9a73978e46b63c6f   \n",
              "55619  1b3190b2dfa9d789e1f14c05b647a14a  d306426abe5fca15e54b645e4462dc7b   \n",
              "70307  2fb597c2f772eca01b1f5c561bf6cc7b  217906bc11a32c1e470eb7e08584894b   \n",
              "32124  773f048245dc975a5f7c67c2415c88a0  1ad8bdb3f2f3403ef79ad8d80dc8d425   \n",
              "12813  c2a550cc5f966506b717532441c221e5  fc99aeadad12e8925f558305956a08aa   \n",
              "95136  17cc6728043d53cc948551dfbf0a338b  dcfb92c7e6d519560090aeb5bfa03f0c   \n",
              "\n",
              "      order_status order_purchase_timestamp   order_approved_at  \\\n",
              "3202     delivered      2017-04-28 16:28:03 2017-04-29 02:42:51   \n",
              "81960    delivered      2017-12-18 20:15:41 2017-12-20 16:10:46   \n",
              "34262    delivered      2017-11-22 14:15:15 2017-11-22 21:48:22   \n",
              "74117    delivered      2017-05-17 19:09:02 2017-05-18 19:22:29   \n",
              "64738    delivered      2017-05-03 19:34:48 2017-05-03 19:45:10   \n",
              "55619    delivered      2018-02-23 14:57:35 2018-02-23 15:16:14   \n",
              "70307    delivered      2017-03-08 18:09:02 2017-03-08 18:09:02   \n",
              "32124    delivered      2018-01-24 16:45:34 2018-01-25 16:37:31   \n",
              "12813    delivered      2018-01-12 15:38:34 2018-01-13 15:33:31   \n",
              "95136    delivered      2017-11-25 12:14:38 2017-11-25 12:33:04   \n",
              "\n",
              "      order_delivered_carrier_date order_delivered_customer_date  \\\n",
              "3202           2017-05-09 14:06:48           2017-09-19 13:54:18   \n",
              "81960          2017-12-21 16:59:08           2018-04-03 18:47:29   \n",
              "34262          2017-11-27 18:57:23           2018-04-06 21:52:36   \n",
              "74117          2017-05-19 10:57:36           2017-11-16 10:56:45   \n",
              "64738          2017-05-04 09:48:44           2017-09-19 16:38:49   \n",
              "55619          2018-02-26 18:49:07           2018-09-19 23:24:07   \n",
              "70307          2017-03-13 08:54:02           2017-09-19 14:33:17   \n",
              "32124          2018-01-26 18:22:07           2018-05-30 16:56:49   \n",
              "12813          2018-01-15 15:46:55           2018-05-23 20:56:25   \n",
              "95136          2017-11-28 18:19:49           2018-04-16 23:26:51   \n",
              "\n",
              "      order_estimated_delivery_date  delivery_time  \n",
              "3202                     2017-05-30          133.0  \n",
              "81960                    2018-01-12          103.1  \n",
              "34262                    2017-12-18          130.1  \n",
              "74117                    2017-06-14          181.0  \n",
              "64738                    2017-06-07          138.3  \n",
              "55619                    2018-03-15          205.2  \n",
              "70307                    2017-04-17          190.2  \n",
              "32124                    2018-02-23          123.9  \n",
              "12813                    2018-02-08          128.2  \n",
              "95136                    2017-12-27          139.2  "
            ]
          },
          "execution_count": 30,
          "metadata": {},
          "output_type": "execute_result"
        }
      ],
      "source": [
        "filtered_orders = orders_df[orders_df['delivery_time'] > 100]\n",
        "\n",
        "# Display the resulting DataFrame\n",
        "filtered_orders.sample(10)"
      ]
    },
    {
      "cell_type": "markdown",
      "metadata": {},
      "source": [
        "Bisa dipastikan bahwa memang ada data yang waktu pengiriman lebih dari 100 hari"
      ]
    },
    {
      "cell_type": "markdown",
      "metadata": {
        "id": "rPwgxTlHoUlB"
      },
      "source": [
        "### Explore reviews_df"
      ]
    },
    {
      "cell_type": "markdown",
      "metadata": {},
      "source": [
        "melihat deskripsi dan sample reviews"
      ]
    },
    {
      "cell_type": "code",
      "execution_count": 31,
      "metadata": {
        "colab": {
          "base_uri": "https://localhost:8080/",
          "height": 414
        },
        "id": "b9zYskzbqJcJ",
        "outputId": "2823be7b-e2d9-4a70-e1ce-7d94c945cd6a"
      },
      "outputs": [
        {
          "data": {
            "text/html": [
              "<div>\n",
              "<style scoped>\n",
              "    .dataframe tbody tr th:only-of-type {\n",
              "        vertical-align: middle;\n",
              "    }\n",
              "\n",
              "    .dataframe tbody tr th {\n",
              "        vertical-align: top;\n",
              "    }\n",
              "\n",
              "    .dataframe thead th {\n",
              "        text-align: right;\n",
              "    }\n",
              "</style>\n",
              "<table border=\"1\" class=\"dataframe\">\n",
              "  <thead>\n",
              "    <tr style=\"text-align: right;\">\n",
              "      <th></th>\n",
              "      <th>review_id</th>\n",
              "      <th>order_id</th>\n",
              "      <th>review_score</th>\n",
              "      <th>review_comment_title</th>\n",
              "      <th>review_comment_message</th>\n",
              "      <th>review_creation_date</th>\n",
              "      <th>review_answer_timestamp</th>\n",
              "    </tr>\n",
              "  </thead>\n",
              "  <tbody>\n",
              "    <tr>\n",
              "      <th>count</th>\n",
              "      <td>99224</td>\n",
              "      <td>99224</td>\n",
              "      <td>99224.000000</td>\n",
              "      <td>99224</td>\n",
              "      <td>99224</td>\n",
              "      <td>99224</td>\n",
              "      <td>99224</td>\n",
              "    </tr>\n",
              "    <tr>\n",
              "      <th>unique</th>\n",
              "      <td>98410</td>\n",
              "      <td>98673</td>\n",
              "      <td>NaN</td>\n",
              "      <td>4528</td>\n",
              "      <td>36160</td>\n",
              "      <td>NaN</td>\n",
              "      <td>NaN</td>\n",
              "    </tr>\n",
              "    <tr>\n",
              "      <th>top</th>\n",
              "      <td>7b606b0d57b078384f0b58eac1d41d78</td>\n",
              "      <td>c88b1d1b157a9999ce368f218a407141</td>\n",
              "      <td>NaN</td>\n",
              "      <td>no comment</td>\n",
              "      <td>no comment</td>\n",
              "      <td>NaN</td>\n",
              "      <td>NaN</td>\n",
              "    </tr>\n",
              "    <tr>\n",
              "      <th>freq</th>\n",
              "      <td>3</td>\n",
              "      <td>3</td>\n",
              "      <td>NaN</td>\n",
              "      <td>87656</td>\n",
              "      <td>58247</td>\n",
              "      <td>NaN</td>\n",
              "      <td>NaN</td>\n",
              "    </tr>\n",
              "    <tr>\n",
              "      <th>mean</th>\n",
              "      <td>NaN</td>\n",
              "      <td>NaN</td>\n",
              "      <td>4.086421</td>\n",
              "      <td>NaN</td>\n",
              "      <td>NaN</td>\n",
              "      <td>2018-01-12 20:49:23.948238336</td>\n",
              "      <td>2018-01-16 00:23:56.977938688</td>\n",
              "    </tr>\n",
              "    <tr>\n",
              "      <th>min</th>\n",
              "      <td>NaN</td>\n",
              "      <td>NaN</td>\n",
              "      <td>1.000000</td>\n",
              "      <td>NaN</td>\n",
              "      <td>NaN</td>\n",
              "      <td>2016-10-02 00:00:00</td>\n",
              "      <td>2016-10-07 18:32:28</td>\n",
              "    </tr>\n",
              "    <tr>\n",
              "      <th>25%</th>\n",
              "      <td>NaN</td>\n",
              "      <td>NaN</td>\n",
              "      <td>4.000000</td>\n",
              "      <td>NaN</td>\n",
              "      <td>NaN</td>\n",
              "      <td>2017-09-23 00:00:00</td>\n",
              "      <td>2017-09-27 01:53:27.249999872</td>\n",
              "    </tr>\n",
              "    <tr>\n",
              "      <th>50%</th>\n",
              "      <td>NaN</td>\n",
              "      <td>NaN</td>\n",
              "      <td>5.000000</td>\n",
              "      <td>NaN</td>\n",
              "      <td>NaN</td>\n",
              "      <td>2018-02-02 00:00:00</td>\n",
              "      <td>2018-02-04 22:41:47.500000</td>\n",
              "    </tr>\n",
              "    <tr>\n",
              "      <th>75%</th>\n",
              "      <td>NaN</td>\n",
              "      <td>NaN</td>\n",
              "      <td>5.000000</td>\n",
              "      <td>NaN</td>\n",
              "      <td>NaN</td>\n",
              "      <td>2018-05-16 00:00:00</td>\n",
              "      <td>2018-05-20 12:11:21.500000</td>\n",
              "    </tr>\n",
              "    <tr>\n",
              "      <th>max</th>\n",
              "      <td>NaN</td>\n",
              "      <td>NaN</td>\n",
              "      <td>5.000000</td>\n",
              "      <td>NaN</td>\n",
              "      <td>NaN</td>\n",
              "      <td>2018-08-31 00:00:00</td>\n",
              "      <td>2018-10-29 12:27:35</td>\n",
              "    </tr>\n",
              "    <tr>\n",
              "      <th>std</th>\n",
              "      <td>NaN</td>\n",
              "      <td>NaN</td>\n",
              "      <td>1.347579</td>\n",
              "      <td>NaN</td>\n",
              "      <td>NaN</td>\n",
              "      <td>NaN</td>\n",
              "      <td>NaN</td>\n",
              "    </tr>\n",
              "  </tbody>\n",
              "</table>\n",
              "</div>"
            ],
            "text/plain": [
              "                               review_id                          order_id  \\\n",
              "count                              99224                             99224   \n",
              "unique                             98410                             98673   \n",
              "top     7b606b0d57b078384f0b58eac1d41d78  c88b1d1b157a9999ce368f218a407141   \n",
              "freq                                   3                                 3   \n",
              "mean                                 NaN                               NaN   \n",
              "min                                  NaN                               NaN   \n",
              "25%                                  NaN                               NaN   \n",
              "50%                                  NaN                               NaN   \n",
              "75%                                  NaN                               NaN   \n",
              "max                                  NaN                               NaN   \n",
              "std                                  NaN                               NaN   \n",
              "\n",
              "        review_score review_comment_title review_comment_message  \\\n",
              "count   99224.000000                99224                  99224   \n",
              "unique           NaN                 4528                  36160   \n",
              "top              NaN           no comment             no comment   \n",
              "freq             NaN                87656                  58247   \n",
              "mean        4.086421                  NaN                    NaN   \n",
              "min         1.000000                  NaN                    NaN   \n",
              "25%         4.000000                  NaN                    NaN   \n",
              "50%         5.000000                  NaN                    NaN   \n",
              "75%         5.000000                  NaN                    NaN   \n",
              "max         5.000000                  NaN                    NaN   \n",
              "std         1.347579                  NaN                    NaN   \n",
              "\n",
              "                 review_creation_date        review_answer_timestamp  \n",
              "count                           99224                          99224  \n",
              "unique                            NaN                            NaN  \n",
              "top                               NaN                            NaN  \n",
              "freq                              NaN                            NaN  \n",
              "mean    2018-01-12 20:49:23.948238336  2018-01-16 00:23:56.977938688  \n",
              "min               2016-10-02 00:00:00            2016-10-07 18:32:28  \n",
              "25%               2017-09-23 00:00:00  2017-09-27 01:53:27.249999872  \n",
              "50%               2018-02-02 00:00:00     2018-02-04 22:41:47.500000  \n",
              "75%               2018-05-16 00:00:00     2018-05-20 12:11:21.500000  \n",
              "max               2018-08-31 00:00:00            2018-10-29 12:27:35  \n",
              "std                               NaN                            NaN  "
            ]
          },
          "execution_count": 31,
          "metadata": {},
          "output_type": "execute_result"
        }
      ],
      "source": [
        "reviews_df.describe(include='all')"
      ]
    },
    {
      "cell_type": "code",
      "execution_count": 32,
      "metadata": {
        "colab": {
          "base_uri": "https://localhost:8080/",
          "height": 226
        },
        "id": "YNMCrIkYoYh-",
        "outputId": "99a6780c-0d66-47cd-9ce3-044f26d13a31"
      },
      "outputs": [
        {
          "data": {
            "text/html": [
              "<div>\n",
              "<style scoped>\n",
              "    .dataframe tbody tr th:only-of-type {\n",
              "        vertical-align: middle;\n",
              "    }\n",
              "\n",
              "    .dataframe tbody tr th {\n",
              "        vertical-align: top;\n",
              "    }\n",
              "\n",
              "    .dataframe thead th {\n",
              "        text-align: right;\n",
              "    }\n",
              "</style>\n",
              "<table border=\"1\" class=\"dataframe\">\n",
              "  <thead>\n",
              "    <tr style=\"text-align: right;\">\n",
              "      <th></th>\n",
              "      <th>review_id</th>\n",
              "      <th>order_id</th>\n",
              "      <th>review_score</th>\n",
              "      <th>review_comment_title</th>\n",
              "      <th>review_comment_message</th>\n",
              "      <th>review_creation_date</th>\n",
              "      <th>review_answer_timestamp</th>\n",
              "    </tr>\n",
              "  </thead>\n",
              "  <tbody>\n",
              "    <tr>\n",
              "      <th>933</th>\n",
              "      <td>31ded2a6b13dd99a719388ce501d8c06</td>\n",
              "      <td>34245c681fa744fbba46cdafcd007135</td>\n",
              "      <td>5</td>\n",
              "      <td>no comment</td>\n",
              "      <td>Produto entregue antes do prazo combinado. Não...</td>\n",
              "      <td>2018-01-13</td>\n",
              "      <td>2018-01-14 17:42:29</td>\n",
              "    </tr>\n",
              "    <tr>\n",
              "      <th>16642</th>\n",
              "      <td>a910d7dc269c0e24fd27489de6261cee</td>\n",
              "      <td>80486ac4792fa4fe4ecf6011109b0edd</td>\n",
              "      <td>4</td>\n",
              "      <td>no comment</td>\n",
              "      <td>Vieram certinhas, as peças, tudo devidamente m...</td>\n",
              "      <td>2017-12-01</td>\n",
              "      <td>2017-12-02 18:05:07</td>\n",
              "    </tr>\n",
              "    <tr>\n",
              "      <th>66183</th>\n",
              "      <td>9e61a10dcc0226edc6e2a2acadf454d2</td>\n",
              "      <td>b7d469b7eb3c07c6d4b96d505c811fea</td>\n",
              "      <td>2</td>\n",
              "      <td>no comment</td>\n",
              "      <td>no comment</td>\n",
              "      <td>2018-02-24</td>\n",
              "      <td>2018-03-04 01:10:52</td>\n",
              "    </tr>\n",
              "    <tr>\n",
              "      <th>59497</th>\n",
              "      <td>7d56a952a87f37942ce1e9a5f6e644de</td>\n",
              "      <td>c3d8fe24facbdbcf714246c6aa420834</td>\n",
              "      <td>5</td>\n",
              "      <td>no comment</td>\n",
              "      <td>no comment</td>\n",
              "      <td>2018-08-16</td>\n",
              "      <td>2018-08-17 00:01:25</td>\n",
              "    </tr>\n",
              "    <tr>\n",
              "      <th>1970</th>\n",
              "      <td>ccc0262ad37ca5bfb21f5a0157cd1acd</td>\n",
              "      <td>aaf899ac4389cbf67485784ac38fce72</td>\n",
              "      <td>5</td>\n",
              "      <td>Recomendo</td>\n",
              "      <td>A entrega foi realizada corretamente, dentro d...</td>\n",
              "      <td>2018-05-19</td>\n",
              "      <td>2018-05-20 17:33:52</td>\n",
              "    </tr>\n",
              "  </tbody>\n",
              "</table>\n",
              "</div>"
            ],
            "text/plain": [
              "                              review_id                          order_id  \\\n",
              "933    31ded2a6b13dd99a719388ce501d8c06  34245c681fa744fbba46cdafcd007135   \n",
              "16642  a910d7dc269c0e24fd27489de6261cee  80486ac4792fa4fe4ecf6011109b0edd   \n",
              "66183  9e61a10dcc0226edc6e2a2acadf454d2  b7d469b7eb3c07c6d4b96d505c811fea   \n",
              "59497  7d56a952a87f37942ce1e9a5f6e644de  c3d8fe24facbdbcf714246c6aa420834   \n",
              "1970   ccc0262ad37ca5bfb21f5a0157cd1acd  aaf899ac4389cbf67485784ac38fce72   \n",
              "\n",
              "       review_score review_comment_title  \\\n",
              "933               5           no comment   \n",
              "16642             4           no comment   \n",
              "66183             2           no comment   \n",
              "59497             5           no comment   \n",
              "1970              5            Recomendo   \n",
              "\n",
              "                                  review_comment_message review_creation_date  \\\n",
              "933    Produto entregue antes do prazo combinado. Não...           2018-01-13   \n",
              "16642  Vieram certinhas, as peças, tudo devidamente m...           2017-12-01   \n",
              "66183                                         no comment           2018-02-24   \n",
              "59497                                         no comment           2018-08-16   \n",
              "1970   A entrega foi realizada corretamente, dentro d...           2018-05-19   \n",
              "\n",
              "      review_answer_timestamp  \n",
              "933       2018-01-14 17:42:29  \n",
              "16642     2017-12-02 18:05:07  \n",
              "66183     2018-03-04 01:10:52  \n",
              "59497     2018-08-17 00:01:25  \n",
              "1970      2018-05-20 17:33:52  "
            ]
          },
          "execution_count": 32,
          "metadata": {},
          "output_type": "execute_result"
        }
      ],
      "source": [
        "reviews_df.sample(5)"
      ]
    },
    {
      "cell_type": "markdown",
      "metadata": {},
      "source": [
        "membuat dataframe grouped payment berisi jumlah total pemakaian dari setiap payment type"
      ]
    },
    {
      "cell_type": "code",
      "execution_count": 33,
      "metadata": {
        "colab": {
          "base_uri": "https://localhost:8080/"
        },
        "id": "qEx9hkc4olvF",
        "outputId": "5a91b222-52df-4729-e2e5-9d844f2c1a24"
      },
      "outputs": [
        {
          "name": "stdout",
          "output_type": "stream",
          "text": [
            "   review_score  count\n",
            "0             1  11424\n",
            "1             2   3151\n",
            "2             3   8179\n",
            "3             4  19142\n",
            "4             5  57328\n"
          ]
        }
      ],
      "source": [
        "grouped_reviews = reviews_df.groupby('review_score').size().reset_index(name='count')\n",
        "\n",
        "\n",
        "print(grouped_reviews)\n"
      ]
    },
    {
      "cell_type": "code",
      "execution_count": 34,
      "metadata": {},
      "outputs": [
        {
          "data": {
            "text/html": [
              "<div>\n",
              "<style scoped>\n",
              "    .dataframe tbody tr th:only-of-type {\n",
              "        vertical-align: middle;\n",
              "    }\n",
              "\n",
              "    .dataframe tbody tr th {\n",
              "        vertical-align: top;\n",
              "    }\n",
              "\n",
              "    .dataframe thead th {\n",
              "        text-align: right;\n",
              "    }\n",
              "</style>\n",
              "<table border=\"1\" class=\"dataframe\">\n",
              "  <thead>\n",
              "    <tr style=\"text-align: right;\">\n",
              "      <th></th>\n",
              "      <th>review_score</th>\n",
              "      <th>count</th>\n",
              "    </tr>\n",
              "  </thead>\n",
              "  <tbody>\n",
              "    <tr>\n",
              "      <th>0</th>\n",
              "      <td>1</td>\n",
              "      <td>11424</td>\n",
              "    </tr>\n",
              "    <tr>\n",
              "      <th>1</th>\n",
              "      <td>2</td>\n",
              "      <td>3151</td>\n",
              "    </tr>\n",
              "    <tr>\n",
              "      <th>2</th>\n",
              "      <td>3</td>\n",
              "      <td>8179</td>\n",
              "    </tr>\n",
              "    <tr>\n",
              "      <th>3</th>\n",
              "      <td>4</td>\n",
              "      <td>19142</td>\n",
              "    </tr>\n",
              "    <tr>\n",
              "      <th>4</th>\n",
              "      <td>5</td>\n",
              "      <td>57328</td>\n",
              "    </tr>\n",
              "  </tbody>\n",
              "</table>\n",
              "</div>"
            ],
            "text/plain": [
              "   review_score  count\n",
              "0             1  11424\n",
              "1             2   3151\n",
              "2             3   8179\n",
              "3             4  19142\n",
              "4             5  57328"
            ]
          },
          "metadata": {},
          "output_type": "display_data"
        }
      ],
      "source": [
        "display(grouped_reviews)"
      ]
    },
    {
      "cell_type": "markdown",
      "metadata": {},
      "source": [
        "berikut adalah bentuk visual dari review score dengan jumlahnya"
      ]
    },
    {
      "cell_type": "code",
      "execution_count": 35,
      "metadata": {},
      "outputs": [
        {
          "data": {
            "image/png": "[encoded data removed]",
            "text/plain": [
              "<Figure size 800x600 with 1 Axes>"
            ]
          },
          "metadata": {},
          "output_type": "display_data"
        }
      ],
      "source": [
        "review_scores = grouped_reviews['review_score']\n",
        "counts = grouped_reviews['count']\n",
        "\n",
        "plt.figure(figsize=(8, 6))\n",
        "plt.bar(review_scores, counts, color='navy')\n",
        "plt.xlabel('Review Score')\n",
        "plt.ylabel('Count')\n",
        "plt.title('Distribution of Review Scores')\n",
        "plt.xticks(review_scores) \n",
        "plt.show()"
      ]
    },
    {
      "cell_type": "markdown",
      "metadata": {
        "id": "LNIrZaO6rJAz"
      },
      "source": [
        "### Explore sellers_df"
      ]
    },
    {
      "cell_type": "markdown",
      "metadata": {},
      "source": [
        "melihat sampel dan info dari customers"
      ]
    },
    {
      "cell_type": "code",
      "execution_count": 36,
      "metadata": {},
      "outputs": [
        {
          "data": {
            "text/html": [
              "<div>\n",
              "<style scoped>\n",
              "    .dataframe tbody tr th:only-of-type {\n",
              "        vertical-align: middle;\n",
              "    }\n",
              "\n",
              "    .dataframe tbody tr th {\n",
              "        vertical-align: top;\n",
              "    }\n",
              "\n",
              "    .dataframe thead th {\n",
              "        text-align: right;\n",
              "    }\n",
              "</style>\n",
              "<table border=\"1\" class=\"dataframe\">\n",
              "  <thead>\n",
              "    <tr style=\"text-align: right;\">\n",
              "      <th></th>\n",
              "      <th>seller_id</th>\n",
              "      <th>seller_zip_code_prefix</th>\n",
              "      <th>seller_city</th>\n",
              "      <th>seller_state</th>\n",
              "    </tr>\n",
              "  </thead>\n",
              "  <tbody>\n",
              "    <tr>\n",
              "      <th>462</th>\n",
              "      <td>6a51fc556dab5f766ced6fbc860bc613</td>\n",
              "      <td>17500</td>\n",
              "      <td>marilia</td>\n",
              "      <td>SP</td>\n",
              "    </tr>\n",
              "    <tr>\n",
              "      <th>12</th>\n",
              "      <td>8bd0f31cf0a614c658f6763bd02dea69</td>\n",
              "      <td>1222</td>\n",
              "      <td>sao paulo</td>\n",
              "      <td>SP</td>\n",
              "    </tr>\n",
              "    <tr>\n",
              "      <th>1753</th>\n",
              "      <td>f3511c85f59f8dec53d140501ee8e7a8</td>\n",
              "      <td>80045</td>\n",
              "      <td>curitiba</td>\n",
              "      <td>PR</td>\n",
              "    </tr>\n",
              "    <tr>\n",
              "      <th>249</th>\n",
              "      <td>66d5ae34537110d3affc56174dad2b2f</td>\n",
              "      <td>15062</td>\n",
              "      <td>sao jose do rio preto</td>\n",
              "      <td>SP</td>\n",
              "    </tr>\n",
              "    <tr>\n",
              "      <th>1874</th>\n",
              "      <td>fe26f3ecb51a15e6d8335cd92da42562</td>\n",
              "      <td>4365</td>\n",
              "      <td>sao paulo</td>\n",
              "      <td>SP</td>\n",
              "    </tr>\n",
              "  </tbody>\n",
              "</table>\n",
              "</div>"
            ],
            "text/plain": [
              "                             seller_id  seller_zip_code_prefix  \\\n",
              "462   6a51fc556dab5f766ced6fbc860bc613                   17500   \n",
              "12    8bd0f31cf0a614c658f6763bd02dea69                    1222   \n",
              "1753  f3511c85f59f8dec53d140501ee8e7a8                   80045   \n",
              "249   66d5ae34537110d3affc56174dad2b2f                   15062   \n",
              "1874  fe26f3ecb51a15e6d8335cd92da42562                    4365   \n",
              "\n",
              "                seller_city seller_state  \n",
              "462                 marilia           SP  \n",
              "12                sao paulo           SP  \n",
              "1753               curitiba           PR  \n",
              "249   sao jose do rio preto           SP  \n",
              "1874              sao paulo           SP  "
            ]
          },
          "execution_count": 36,
          "metadata": {},
          "output_type": "execute_result"
        }
      ],
      "source": [
        "sellers_df.sample(5)"
      ]
    },
    {
      "cell_type": "code",
      "execution_count": 37,
      "metadata": {},
      "outputs": [
        {
          "name": "stdout",
          "output_type": "stream",
          "text": [
            "<class 'pandas.core.frame.DataFrame'>\n",
            "RangeIndex: 3095 entries, 0 to 3094\n",
            "Data columns (total 4 columns):\n",
            " #   Column                  Non-Null Count  Dtype \n",
            "---  ------                  --------------  ----- \n",
            " 0   seller_id               3095 non-null   object\n",
            " 1   seller_zip_code_prefix  3095 non-null   int64 \n",
            " 2   seller_city             3095 non-null   object\n",
            " 3   seller_state            3095 non-null   object\n",
            "dtypes: int64(1), object(3)\n",
            "memory usage: 96.8+ KB\n"
          ]
        }
      ],
      "source": [
        "sellers_df.info()"
      ]
    },
    {
      "cell_type": "markdown",
      "metadata": {},
      "source": [
        "melihat deskripsi dari sellers"
      ]
    },
    {
      "cell_type": "code",
      "execution_count": 38,
      "metadata": {},
      "outputs": [
        {
          "data": {
            "text/html": [
              "<div>\n",
              "<style scoped>\n",
              "    .dataframe tbody tr th:only-of-type {\n",
              "        vertical-align: middle;\n",
              "    }\n",
              "\n",
              "    .dataframe tbody tr th {\n",
              "        vertical-align: top;\n",
              "    }\n",
              "\n",
              "    .dataframe thead th {\n",
              "        text-align: right;\n",
              "    }\n",
              "</style>\n",
              "<table border=\"1\" class=\"dataframe\">\n",
              "  <thead>\n",
              "    <tr style=\"text-align: right;\">\n",
              "      <th></th>\n",
              "      <th>seller_zip_code_prefix</th>\n",
              "    </tr>\n",
              "  </thead>\n",
              "  <tbody>\n",
              "    <tr>\n",
              "      <th>count</th>\n",
              "      <td>3095.000000</td>\n",
              "    </tr>\n",
              "    <tr>\n",
              "      <th>mean</th>\n",
              "      <td>32291.059451</td>\n",
              "    </tr>\n",
              "    <tr>\n",
              "      <th>std</th>\n",
              "      <td>32713.453830</td>\n",
              "    </tr>\n",
              "    <tr>\n",
              "      <th>min</th>\n",
              "      <td>1001.000000</td>\n",
              "    </tr>\n",
              "    <tr>\n",
              "      <th>25%</th>\n",
              "      <td>7093.500000</td>\n",
              "    </tr>\n",
              "    <tr>\n",
              "      <th>50%</th>\n",
              "      <td>14940.000000</td>\n",
              "    </tr>\n",
              "    <tr>\n",
              "      <th>75%</th>\n",
              "      <td>64552.500000</td>\n",
              "    </tr>\n",
              "    <tr>\n",
              "      <th>max</th>\n",
              "      <td>99730.000000</td>\n",
              "    </tr>\n",
              "  </tbody>\n",
              "</table>\n",
              "</div>"
            ],
            "text/plain": [
              "       seller_zip_code_prefix\n",
              "count             3095.000000\n",
              "mean             32291.059451\n",
              "std              32713.453830\n",
              "min               1001.000000\n",
              "25%               7093.500000\n",
              "50%              14940.000000\n",
              "75%              64552.500000\n",
              "max              99730.000000"
            ]
          },
          "execution_count": 38,
          "metadata": {},
          "output_type": "execute_result"
        }
      ],
      "source": [
        "sellers_df.describe()"
      ]
    },
    {
      "cell_type": "markdown",
      "metadata": {},
      "source": [
        "mencheck apakah ada seller id yang duplikat"
      ]
    },
    {
      "cell_type": "code",
      "execution_count": 39,
      "metadata": {},
      "outputs": [
        {
          "data": {
            "text/plain": [
              "True"
            ]
          },
          "execution_count": 39,
          "metadata": {},
          "output_type": "execute_result"
        }
      ],
      "source": [
        "sellers_df.seller_id.is_unique"
      ]
    },
    {
      "cell_type": "markdown",
      "metadata": {},
      "source": [
        "karena semua seller id unik, berarti tidak ada duplikat "
      ]
    },
    {
      "cell_type": "markdown",
      "metadata": {},
      "source": [
        "mengubah seller state menjadi state"
      ]
    },
    {
      "cell_type": "code",
      "execution_count": 40,
      "metadata": {
        "colab": {
          "base_uri": "https://localhost:8080/",
          "height": 261
        },
        "id": "XCozQ3k9rdcq",
        "outputId": "408228d3-cfa8-493f-b496-9ff1d9ce3eef"
      },
      "outputs": [
        {
          "data": {
            "text/html": [
              "<div>\n",
              "<style scoped>\n",
              "    .dataframe tbody tr th:only-of-type {\n",
              "        vertical-align: middle;\n",
              "    }\n",
              "\n",
              "    .dataframe tbody tr th {\n",
              "        vertical-align: top;\n",
              "    }\n",
              "\n",
              "    .dataframe thead th {\n",
              "        text-align: right;\n",
              "    }\n",
              "</style>\n",
              "<table border=\"1\" class=\"dataframe\">\n",
              "  <thead>\n",
              "    <tr style=\"text-align: right;\">\n",
              "      <th></th>\n",
              "      <th>seller_id</th>\n",
              "      <th>seller_zip_code_prefix</th>\n",
              "      <th>seller_city</th>\n",
              "      <th>state</th>\n",
              "    </tr>\n",
              "  </thead>\n",
              "  <tbody>\n",
              "    <tr>\n",
              "      <th>762</th>\n",
              "      <td>70125af26c2d6d4ef401a1d02ae7701f</td>\n",
              "      <td>74435</td>\n",
              "      <td>goiania</td>\n",
              "      <td>GO</td>\n",
              "    </tr>\n",
              "    <tr>\n",
              "      <th>2876</th>\n",
              "      <td>2b3e4a2a3ea8e01938cabda2a3e5cc79</td>\n",
              "      <td>4733</td>\n",
              "      <td>sao paulo</td>\n",
              "      <td>SP</td>\n",
              "    </tr>\n",
              "    <tr>\n",
              "      <th>3012</th>\n",
              "      <td>f789d2c4f2c2eb38fc4373e7a4b35264</td>\n",
              "      <td>36010</td>\n",
              "      <td>juiz de fora</td>\n",
              "      <td>MG</td>\n",
              "    </tr>\n",
              "    <tr>\n",
              "      <th>1537</th>\n",
              "      <td>bac44fa8e13424950488659b5f765c41</td>\n",
              "      <td>4534</td>\n",
              "      <td>sao paulo</td>\n",
              "      <td>SP</td>\n",
              "    </tr>\n",
              "    <tr>\n",
              "      <th>2023</th>\n",
              "      <td>9d7a1d34a5052409006425275ba1c2b4</td>\n",
              "      <td>14403</td>\n",
              "      <td>franca</td>\n",
              "      <td>SP</td>\n",
              "    </tr>\n",
              "  </tbody>\n",
              "</table>\n",
              "</div>"
            ],
            "text/plain": [
              "                             seller_id  seller_zip_code_prefix   seller_city  \\\n",
              "762   70125af26c2d6d4ef401a1d02ae7701f                   74435       goiania   \n",
              "2876  2b3e4a2a3ea8e01938cabda2a3e5cc79                    4733     sao paulo   \n",
              "3012  f789d2c4f2c2eb38fc4373e7a4b35264                   36010  juiz de fora   \n",
              "1537  bac44fa8e13424950488659b5f765c41                    4534     sao paulo   \n",
              "2023  9d7a1d34a5052409006425275ba1c2b4                   14403        franca   \n",
              "\n",
              "     state  \n",
              "762     GO  \n",
              "2876    SP  \n",
              "3012    MG  \n",
              "1537    SP  \n",
              "2023    SP  "
            ]
          },
          "execution_count": 40,
          "metadata": {},
          "output_type": "execute_result"
        }
      ],
      "source": [
        "sellers_df.rename(columns={'seller_state': 'state'}, inplace=True)\n",
        "sellers_df.sample(5)"
      ]
    },
    {
      "cell_type": "markdown",
      "metadata": {},
      "source": [
        "membuat grouped_state untuk melihat jumlah seller pada setiap state"
      ]
    },
    {
      "cell_type": "code",
      "execution_count": 41,
      "metadata": {},
      "outputs": [
        {
          "name": "stdout",
          "output_type": "stream",
          "text": [
            "   state  count\n",
            "0     AC      1\n",
            "1     AM      1\n",
            "2     BA     19\n",
            "3     CE     13\n",
            "4     DF     30\n",
            "5     ES     23\n",
            "6     GO     40\n",
            "7     MA      1\n",
            "8     MG    244\n",
            "9     MS      5\n",
            "10    MT      4\n",
            "11    PA      1\n",
            "12    PB      6\n",
            "13    PE      9\n",
            "14    PI      1\n",
            "15    PR    349\n",
            "16    RJ    171\n",
            "17    RN      5\n",
            "18    RO      2\n",
            "19    RS    129\n",
            "20    SC    190\n",
            "21    SE      2\n",
            "22    SP   1849\n"
          ]
        }
      ],
      "source": [
        "grouped_state = sellers_df.groupby('state').size().reset_index(name='count')\n",
        "\n",
        "\n",
        "print(grouped_state)"
      ]
    },
    {
      "cell_type": "markdown",
      "metadata": {},
      "source": [
        "berikut adalah bentuk visualnya"
      ]
    },
    {
      "cell_type": "code",
      "execution_count": 42,
      "metadata": {},
      "outputs": [
        {
          "data": {
            "image/png": "[encoded data removed]",
            "text/plain": [
              "<Figure size 1500x600 with 1 Axes>"
            ]
          },
          "metadata": {},
          "output_type": "display_data"
        }
      ],
      "source": [
        "states_data = grouped_state['state']\n",
        "counts = grouped_state['count']\n",
        "\n",
        "plt.figure(figsize=(15, 6))\n",
        "plt.bar(states_data, counts, color='navy')\n",
        "plt.xlabel('States')\n",
        "plt.ylabel('Count')\n",
        "plt.title('Distribution of Sellsers based on States')\n",
        "plt.xticks(rotation=90)  \n",
        "plt.tick_params(axis='x', which='major', labelsize=8)\n",
        "plt.show()"
      ]
    },
    {
      "cell_type": "markdown",
      "metadata": {},
      "source": [
        "bisa dilihat bahwa states SP memiliki jumlah seller paling banyak"
      ]
    },
    {
      "cell_type": "markdown",
      "metadata": {
        "id": "zsyZjqak8DC2"
      },
      "source": [
        "## Visualization & Explanatory Analysis"
      ]
    },
    {
      "cell_type": "markdown",
      "metadata": {
        "id": "HZxOiQ6n8DC2"
      },
      "source": [
        "### Pertanyaan 1: Bagaimana penyebaran dan perbandingan customer dan seller di setiap state?"
      ]
    },
    {
      "cell_type": "markdown",
      "metadata": {},
      "source": [
        "membuat dataframe merged_counts yang berisi gabungan dari jumlah customers dan sellers berdasarkan statenya"
      ]
    },
    {
      "cell_type": "code",
      "execution_count": 43,
      "metadata": {
        "colab": {
          "base_uri": "https://localhost:8080/",
          "height": 896
        },
        "id": "1swJUdAD8DC2",
        "outputId": "5d23a236-a13e-4159-b87b-21dc518d1d86"
      },
      "outputs": [
        {
          "data": {
            "text/html": [
              "<div>\n",
              "<style scoped>\n",
              "    .dataframe tbody tr th:only-of-type {\n",
              "        vertical-align: middle;\n",
              "    }\n",
              "\n",
              "    .dataframe tbody tr th {\n",
              "        vertical-align: top;\n",
              "    }\n",
              "\n",
              "    .dataframe thead th {\n",
              "        text-align: right;\n",
              "    }\n",
              "</style>\n",
              "<table border=\"1\" class=\"dataframe\">\n",
              "  <thead>\n",
              "    <tr style=\"text-align: right;\">\n",
              "      <th></th>\n",
              "      <th>Customers</th>\n",
              "      <th>Sellers</th>\n",
              "    </tr>\n",
              "    <tr>\n",
              "      <th>state</th>\n",
              "      <th></th>\n",
              "      <th></th>\n",
              "    </tr>\n",
              "  </thead>\n",
              "  <tbody>\n",
              "    <tr>\n",
              "      <th>AM</th>\n",
              "      <td>148</td>\n",
              "      <td>1.0</td>\n",
              "    </tr>\n",
              "    <tr>\n",
              "      <th>GO</th>\n",
              "      <td>2020</td>\n",
              "      <td>40.0</td>\n",
              "    </tr>\n",
              "    <tr>\n",
              "      <th>PA</th>\n",
              "      <td>975</td>\n",
              "      <td>1.0</td>\n",
              "    </tr>\n",
              "    <tr>\n",
              "      <th>PE</th>\n",
              "      <td>1652</td>\n",
              "      <td>9.0</td>\n",
              "    </tr>\n",
              "    <tr>\n",
              "      <th>SP</th>\n",
              "      <td>41746</td>\n",
              "      <td>1849.0</td>\n",
              "    </tr>\n",
              "  </tbody>\n",
              "</table>\n",
              "</div>"
            ],
            "text/plain": [
              "       Customers  Sellers\n",
              "state                    \n",
              "AM           148      1.0\n",
              "GO          2020     40.0\n",
              "PA           975      1.0\n",
              "PE          1652      9.0\n",
              "SP         41746   1849.0"
            ]
          },
          "execution_count": 43,
          "metadata": {},
          "output_type": "execute_result"
        }
      ],
      "source": [
        "customers_state_counts = customers_df.groupby('state').customer_id.nunique()\n",
        "sellers_state_counts = sellers_df.groupby('state').seller_id.nunique()\n",
        "\n",
        "\n",
        "merged_counts = pd.concat([customers_state_counts, sellers_state_counts], axis=1, keys=['Customers', 'Sellers'])\n",
        "merged_counts.sample(5)"
      ]
    },
    {
      "cell_type": "markdown",
      "metadata": {},
      "source": [
        "membuat stacked bar chart"
      ]
    },
    {
      "cell_type": "code",
      "execution_count": 44,
      "metadata": {},
      "outputs": [
        {
          "data": {
            "image/png": "[encoded data removed]",
            "text/plain": [
              "<Figure size 1000x600 with 1 Axes>"
            ]
          },
          "metadata": {},
          "output_type": "display_data"
        }
      ],
      "source": [
        "merged_counts.plot(kind='bar', stacked=True, figsize=(10, 6))\n",
        "plt.title('Number of Customers and Sellers by State')\n",
        "plt.xlabel('State')\n",
        "plt.ylabel('Count')\n",
        "plt.show()"
      ]
    },
    {
      "cell_type": "markdown",
      "metadata": {},
      "source": [
        "membuat piechart"
      ]
    },
    {
      "cell_type": "code",
      "execution_count": 45,
      "metadata": {
        "colab": {
          "base_uri": "https://localhost:8080/",
          "height": 428
        },
        "id": "5r-WQwMqX6aI",
        "outputId": "c4c28ed9-b519-49af-c2a4-fba1591ae752"
      },
      "outputs": [
        {
          "data": {
            "image/png": "[encoded data removed]",
            "text/plain": [
              "<Figure size 800x800 with 1 Axes>"
            ]
          },
          "metadata": {},
          "output_type": "display_data"
        }
      ],
      "source": [
        "total_customers = merged_counts['Customers'].sum()\n",
        "total_sellers = merged_counts['Sellers'].sum()\n",
        "\n",
        "total_counts = pd.Series({'Customers': total_customers, 'Sellers': total_sellers})\n",
        "\n",
        "# Plotting the pie chart\n",
        "total_counts.plot.pie(autopct='%1.2f%%', figsize=(8, 8), legend=False)\n",
        "plt.title('Portions of customers and sellers by percent')\n",
        "plt.show()"
      ]
    },
    {
      "cell_type": "markdown",
      "metadata": {},
      "source": [
        "Membuat bar chart dari selisih customers dan pelanggan"
      ]
    },
    {
      "cell_type": "code",
      "execution_count": 46,
      "metadata": {},
      "outputs": [
        {
          "data": {
            "image/png": "[encoded data removed]",
            "text/plain": [
              "<Figure size 1000x600 with 1 Axes>"
            ]
          },
          "metadata": {},
          "output_type": "display_data"
        }
      ],
      "source": [
        "merged_counts['Difference'] = merged_counts['Customers'] - merged_counts['Sellers']\n",
        "merged_counts.plot(kind='bar', y='Difference',color='green', figsize=(10, 6), legend=None)  \n",
        "plt.title('Difference of Customers and Sellers by State')\n",
        "plt.xlabel('State')\n",
        "plt.ylabel('Difference')\n",
        "plt.show()"
      ]
    },
    {
      "cell_type": "markdown",
      "metadata": {
        "id": "DgHI7CiU8DC2"
      },
      "source": [
        "### Pertanyaan 2: Apakah ada hubungan antara waktu pengiriman dengan skor review?"
      ]
    },
    {
      "cell_type": "markdown",
      "metadata": {},
      "source": [
        "membuat dataframe baru bernama mergerd_df dengan menggabungkan dataframe order dengan review, lalu membuat scatter plot dari waktu pengiriman dengan skor review."
      ]
    },
    {
      "cell_type": "code",
      "execution_count": 47,
      "metadata": {
        "colab": {
          "base_uri": "https://localhost:8080/",
          "height": 513
        },
        "id": "25XvvYwGyllh",
        "outputId": "eff66abb-7085-401e-ed7e-725275ba1860"
      },
      "outputs": [
        {
          "data": {
            "image/png": "[encoded data removed]",
            "text/plain": [
              "<Figure size 1000x600 with 1 Axes>"
            ]
          },
          "metadata": {},
          "output_type": "display_data"
        }
      ],
      "source": [
        "merged_df = pd.merge(orders_df, reviews_df, on='order_id')\n",
        "\n",
        "# Plotting the scatter plot\n",
        "plt.figure(figsize=(10, 6))\n",
        "plt.scatter(merged_df['delivery_time'], merged_df['review_score'], alpha=0.5)\n",
        "plt.title('Scatter Plot of Delivery Time vs Review Score')\n",
        "plt.xlabel('Delivery Time (days)')\n",
        "plt.ylabel('Review Score')\n",
        "plt.grid(True)\n",
        "plt.show()"
      ]
    },
    {
      "cell_type": "markdown",
      "metadata": {},
      "source": [
        "membuat box plot "
      ]
    },
    {
      "cell_type": "code",
      "execution_count": 48,
      "metadata": {},
      "outputs": [
        {
          "data": {
            "image/png": "[encoded data removed]",
            "text/plain": [
              "<Figure size 1200x800 with 1 Axes>"
            ]
          },
          "metadata": {},
          "output_type": "display_data"
        }
      ],
      "source": [
        "plt.figure(figsize=(12, 8))\n",
        "sns.boxplot(x=pd.cut(merged_df['delivery_time'], bins=[0, 10, 20, 30, 40, 50, 100, float('inf')], labels=['0-10', '11-20', '21-30', '31-40', '41-50', '51-100', '100+']), y=merged_df['review_score'])\n",
        "plt.title('Box Plot of Review Score vs Delivery Time')\n",
        "plt.xlabel('Delivery Time (days)')\n",
        "plt.ylabel('Review Score')\n",
        "plt.show()"
      ]
    },
    {
      "cell_type": "markdown",
      "metadata": {},
      "source": [
        "membuat violin plot"
      ]
    },
    {
      "cell_type": "code",
      "execution_count": 49,
      "metadata": {},
      "outputs": [
        {
          "data": {
            "image/png": "[encoded data removed]",
            "text/plain": [
              "<Figure size 1200x800 with 1 Axes>"
            ]
          },
          "metadata": {},
          "output_type": "display_data"
        }
      ],
      "source": [
        "plt.figure(figsize=(12, 8))\n",
        "sns.violinplot(x=pd.cut(merged_df['delivery_time'], bins=[0, 10, 20, 30, 40, 50, 100, float('inf')], labels=['0-10', '11-20', '21-30', '31-40', '41-50', '51-100', '100+']), y=merged_df['review_score'])\n",
        "plt.title('Violin Plot of Review Score vs Delivery Time')\n",
        "plt.xlabel('Delivery Time (days)')\n",
        "plt.ylabel('Review Score')\n",
        "plt.show()\n"
      ]
    },
    {
      "cell_type": "markdown",
      "metadata": {
        "id": "_WeHlCeX8DC2"
      },
      "source": [
        "## Conclusion"
      ]
    },
    {
      "cell_type": "markdown",
      "metadata": {
        "id": "ZTcyR48Y8DC2"
      },
      "source": [
        "- pertanyaan 1: jumlah customers dan sellers terbanyak terdapat pada state SP yang paling dominan dibandingkan dengan state lain. jumlah sellernya juga mencakup 3% dari total jumlah pengguna dan selisih antara customers dengan sellers masih besar. Data ini menandakan bahwa keseluruhan pengguna, termasuk seller dan customer, terbanyak terdapat pada state ST.\n",
        "\n",
        "- pertanyaan 2: jumlah review 5 cenderung berada pada 20 hari pertama, lalu pada hari ke 21-30 dan 100+ terlihat bahwa skor cenderung berada pada review skor paling tinggi atau paling rendah. sedangkan hari ke 31-100, reviewnya cenderung berada dibawah 2."
      ]
    }
  ],
  "metadata": {
    "colab": {
      "provenance": []
    },
    "kernelspec": {
      "display_name": "Python 3",
      "language": "python",
      "name": "python3"
    },
    "language_info": {
      "codemirror_mode": {
        "name": "ipython",
        "version": 3
      },
      "file_extension": ".py",
      "mimetype": "text/x-python",
      "name": "python",
      "nbconvert_exporter": "python",
      "pygments_lexer": "ipython3",
      "version": "3.12.2"
    },
    "vscode": {
      "interpreter": {
        "hash": "972b3bf27e332e87b5379f2791f6ef9dfc79c71018c370b0d7423235e20fe4d7"
      }
    }
  },
  "nbformat": 4,
  "nbformat_minor": 0
}
